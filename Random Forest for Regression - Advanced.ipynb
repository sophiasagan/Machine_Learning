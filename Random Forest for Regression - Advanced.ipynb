{
 "cells": [
  {
   "cell_type": "markdown",
   "id": "2728d358",
   "metadata": {},
   "source": [
    "# Random Forest for Regression - ABC Grocery Task"
   ]
  },
  {
   "cell_type": "code",
   "execution_count": 1,
   "id": "e4f9e9e7",
   "metadata": {},
   "outputs": [],
   "source": [
    "import pandas as pd\n",
    "import pickle\n",
    "import matplotlib.pyplot as plt\n",
    "\n",
    "from sklearn.ensemble import RandomForestRegressor\n",
    "from sklearn.utils import shuffle\n",
    "from sklearn.model_selection import train_test_split, cross_val_score, KFold\n",
    "from sklearn.metrics import r2_score\n",
    "from sklearn.preprocessing import OneHotEncoder\n",
    "from sklearn.inspection import permutation_importance\n",
    "\n"
   ]
  },
  {
   "cell_type": "code",
   "execution_count": 2,
   "id": "4b0e47a8",
   "metadata": {},
   "outputs": [],
   "source": [
    "data_for_model = pickle.load(open(\"data/abc_abc_regression_modelling.p\", \"rb\"))"
   ]
  },
  {
   "cell_type": "code",
   "execution_count": 3,
   "id": "b7f66035",
   "metadata": {},
   "outputs": [],
   "source": [
    "data_for_model.drop(\"customer_id\", axis = 1, inplace = True)"
   ]
  },
  {
   "cell_type": "code",
   "execution_count": 4,
   "id": "a2f94082",
   "metadata": {},
   "outputs": [],
   "source": [
    "# shuffle data\n",
    "data_for_model = shuffle(data_for_model, random_state = 42)"
   ]
  },
  {
   "cell_type": "code",
   "execution_count": 5,
   "id": "376c8aa1",
   "metadata": {},
   "outputs": [
    {
     "data": {
      "text/plain": [
       "distance_from_store       2\n",
       "gender                    3\n",
       "credit_score              2\n",
       "customer_loyalty_score    0\n",
       "total_sales               0\n",
       "total_items               0\n",
       "transaction_count         0\n",
       "product_area_count        0\n",
       "average_basket_value      0\n",
       "dtype: int64"
      ]
     },
     "execution_count": 5,
     "metadata": {},
     "output_type": "execute_result"
    }
   ],
   "source": [
    "# deal with missing values\n",
    "data_for_model.isna().sum()"
   ]
  },
  {
   "cell_type": "code",
   "execution_count": 6,
   "id": "b47b3cb2",
   "metadata": {},
   "outputs": [],
   "source": [
    "data_for_model.dropna(how = \"any\", inplace = True)"
   ]
  },
  {
   "cell_type": "code",
   "execution_count": 7,
   "id": "8c5a4521",
   "metadata": {},
   "outputs": [],
   "source": [
    "# deal with Outliers\n",
    "# outlier_investigation = data_for_model.describe()\n",
    "# outlier_investigation"
   ]
  },
  {
   "cell_type": "code",
   "execution_count": 8,
   "id": "cc19abe2",
   "metadata": {},
   "outputs": [],
   "source": [
    "# outlier_columns = [\"distance_from_store\", \"total_sales\", \"total_items\"]\n",
    "\n",
    "# for column in outlier_columns:\n",
    "#     lower_quartile = data_for_model[column].quantile(0.25)\n",
    "#     upper_quartile = data_for_model[column].quantile(0.75)\n",
    "#     iqr = upper_quartile - lower_quartile\n",
    "#     iqr_extended = iqr * 2\n",
    "#     min_border = lower_quartile - iqr_extended\n",
    "#     max_border = upper_quartile + iqr_extended\n",
    "    \n",
    "#     outliers = data_for_model[(data_for_model[column] < min_border) | (data_for_model[column] > max_border)].index\n",
    "#     print(f\"{len(outliers)} outliers detected in column {column}\")\n",
    "    \n",
    "#     data_for_model.drop(outliers, inplace = True)"
   ]
  },
  {
   "cell_type": "code",
   "execution_count": 9,
   "id": "1eba4d2e",
   "metadata": {},
   "outputs": [],
   "source": [
    "# split input variables & output variable\n",
    "X = data_for_model.drop([\"customer_loyalty_score\"], axis = 1)\n",
    "y = data_for_model[\"customer_loyalty_score\"]"
   ]
  },
  {
   "cell_type": "code",
   "execution_count": 10,
   "id": "35adfaf0",
   "metadata": {},
   "outputs": [],
   "source": [
    "# split out training and test sets\n",
    "X_train, X_test, y_train, y_test = train_test_split(X, y, test_size = 0.2, random_state = 42)"
   ]
  },
  {
   "cell_type": "code",
   "execution_count": 11,
   "id": "d423b864",
   "metadata": {},
   "outputs": [
    {
     "name": "stderr",
     "output_type": "stream",
     "text": [
      "C:\\Users\\sophi\\anaconda3\\lib\\site-packages\\sklearn\\utils\\deprecation.py:87: FutureWarning: Function get_feature_names is deprecated; get_feature_names is deprecated in 1.0 and will be removed in 1.2. Please use get_feature_names_out instead.\n",
      "  warnings.warn(msg, category=FutureWarning)\n"
     ]
    }
   ],
   "source": [
    "# deal with categorical variables\n",
    "categorical_vars = [\"gender\"]\n",
    "one_hot_encoder = OneHotEncoder(sparse=False, drop = 'first')\n",
    "\n",
    "X_train_encoded = one_hot_encoder.fit_transform(X_train[categorical_vars])\n",
    "X_test_encoded = one_hot_encoder.transform(X_test[categorical_vars])\n",
    "\n",
    "encoder_feature_names = one_hot_encoder.get_feature_names(categorical_vars)\n",
    "\n",
    "X_train_encoded = pd.DataFrame(X_train_encoded, columns = encoder_feature_names)\n",
    "X_train = pd.concat([X_train.reset_index(drop = True), X_train_encoded.reset_index(drop = True)], axis = 1)\n",
    "X_train.drop(categorical_vars, axis = 1, inplace = True)\n",
    "\n",
    "X_test_encoded = pd.DataFrame(X_test_encoded, columns = encoder_feature_names)\n",
    "X_test = pd.concat([X_test.reset_index(drop = True), X_test_encoded.reset_index(drop = True)], axis = 1)\n",
    "X_test.drop(categorical_vars, axis = 1, inplace = True)\n"
   ]
  },
  {
   "cell_type": "code",
   "execution_count": 12,
   "id": "d6ccd565",
   "metadata": {},
   "outputs": [
    {
     "data": {
      "text/html": [
       "<div>\n",
       "<style scoped>\n",
       "    .dataframe tbody tr th:only-of-type {\n",
       "        vertical-align: middle;\n",
       "    }\n",
       "\n",
       "    .dataframe tbody tr th {\n",
       "        vertical-align: top;\n",
       "    }\n",
       "\n",
       "    .dataframe thead th {\n",
       "        text-align: right;\n",
       "    }\n",
       "</style>\n",
       "<table border=\"1\" class=\"dataframe\">\n",
       "  <thead>\n",
       "    <tr style=\"text-align: right;\">\n",
       "      <th></th>\n",
       "      <th>distance_from_store</th>\n",
       "      <th>credit_score</th>\n",
       "      <th>total_sales</th>\n",
       "      <th>total_items</th>\n",
       "      <th>transaction_count</th>\n",
       "      <th>product_area_count</th>\n",
       "      <th>average_basket_value</th>\n",
       "      <th>gender_M</th>\n",
       "    </tr>\n",
       "  </thead>\n",
       "  <tbody>\n",
       "    <tr>\n",
       "      <th>0</th>\n",
       "      <td>0.04</td>\n",
       "      <td>0.67</td>\n",
       "      <td>1191.53</td>\n",
       "      <td>216</td>\n",
       "      <td>53</td>\n",
       "      <td>5</td>\n",
       "      <td>22.481698</td>\n",
       "      <td>1.0</td>\n",
       "    </tr>\n",
       "    <tr>\n",
       "      <th>1</th>\n",
       "      <td>2.04</td>\n",
       "      <td>0.64</td>\n",
       "      <td>1581.41</td>\n",
       "      <td>343</td>\n",
       "      <td>41</td>\n",
       "      <td>4</td>\n",
       "      <td>38.570976</td>\n",
       "      <td>0.0</td>\n",
       "    </tr>\n",
       "    <tr>\n",
       "      <th>2</th>\n",
       "      <td>2.24</td>\n",
       "      <td>0.63</td>\n",
       "      <td>1327.51</td>\n",
       "      <td>266</td>\n",
       "      <td>48</td>\n",
       "      <td>4</td>\n",
       "      <td>27.656458</td>\n",
       "      <td>0.0</td>\n",
       "    </tr>\n",
       "    <tr>\n",
       "      <th>3</th>\n",
       "      <td>1.72</td>\n",
       "      <td>0.59</td>\n",
       "      <td>2094.10</td>\n",
       "      <td>352</td>\n",
       "      <td>34</td>\n",
       "      <td>3</td>\n",
       "      <td>61.591176</td>\n",
       "      <td>1.0</td>\n",
       "    </tr>\n",
       "    <tr>\n",
       "      <th>4</th>\n",
       "      <td>0.24</td>\n",
       "      <td>0.53</td>\n",
       "      <td>1133.45</td>\n",
       "      <td>180</td>\n",
       "      <td>56</td>\n",
       "      <td>5</td>\n",
       "      <td>20.240179</td>\n",
       "      <td>1.0</td>\n",
       "    </tr>\n",
       "    <tr>\n",
       "      <th>...</th>\n",
       "      <td>...</td>\n",
       "      <td>...</td>\n",
       "      <td>...</td>\n",
       "      <td>...</td>\n",
       "      <td>...</td>\n",
       "      <td>...</td>\n",
       "      <td>...</td>\n",
       "      <td>...</td>\n",
       "    </tr>\n",
       "    <tr>\n",
       "      <th>310</th>\n",
       "      <td>0.37</td>\n",
       "      <td>0.61</td>\n",
       "      <td>1397.66</td>\n",
       "      <td>270</td>\n",
       "      <td>50</td>\n",
       "      <td>4</td>\n",
       "      <td>27.953200</td>\n",
       "      <td>1.0</td>\n",
       "    </tr>\n",
       "    <tr>\n",
       "      <th>311</th>\n",
       "      <td>2.94</td>\n",
       "      <td>0.62</td>\n",
       "      <td>2397.63</td>\n",
       "      <td>282</td>\n",
       "      <td>52</td>\n",
       "      <td>5</td>\n",
       "      <td>46.108269</td>\n",
       "      <td>0.0</td>\n",
       "    </tr>\n",
       "    <tr>\n",
       "      <th>312</th>\n",
       "      <td>2.31</td>\n",
       "      <td>0.53</td>\n",
       "      <td>1805.39</td>\n",
       "      <td>298</td>\n",
       "      <td>48</td>\n",
       "      <td>5</td>\n",
       "      <td>37.612292</td>\n",
       "      <td>0.0</td>\n",
       "    </tr>\n",
       "    <tr>\n",
       "      <th>313</th>\n",
       "      <td>2.80</td>\n",
       "      <td>0.41</td>\n",
       "      <td>1524.01</td>\n",
       "      <td>278</td>\n",
       "      <td>45</td>\n",
       "      <td>3</td>\n",
       "      <td>33.866889</td>\n",
       "      <td>0.0</td>\n",
       "    </tr>\n",
       "    <tr>\n",
       "      <th>314</th>\n",
       "      <td>4.47</td>\n",
       "      <td>0.74</td>\n",
       "      <td>3770.71</td>\n",
       "      <td>415</td>\n",
       "      <td>50</td>\n",
       "      <td>5</td>\n",
       "      <td>75.414200</td>\n",
       "      <td>0.0</td>\n",
       "    </tr>\n",
       "  </tbody>\n",
       "</table>\n",
       "<p>315 rows × 8 columns</p>\n",
       "</div>"
      ],
      "text/plain": [
       "     distance_from_store  credit_score  total_sales  total_items  \\\n",
       "0                   0.04          0.67      1191.53          216   \n",
       "1                   2.04          0.64      1581.41          343   \n",
       "2                   2.24          0.63      1327.51          266   \n",
       "3                   1.72          0.59      2094.10          352   \n",
       "4                   0.24          0.53      1133.45          180   \n",
       "..                   ...           ...          ...          ...   \n",
       "310                 0.37          0.61      1397.66          270   \n",
       "311                 2.94          0.62      2397.63          282   \n",
       "312                 2.31          0.53      1805.39          298   \n",
       "313                 2.80          0.41      1524.01          278   \n",
       "314                 4.47          0.74      3770.71          415   \n",
       "\n",
       "     transaction_count  product_area_count  average_basket_value  gender_M  \n",
       "0                   53                   5             22.481698       1.0  \n",
       "1                   41                   4             38.570976       0.0  \n",
       "2                   48                   4             27.656458       0.0  \n",
       "3                   34                   3             61.591176       1.0  \n",
       "4                   56                   5             20.240179       1.0  \n",
       "..                 ...                 ...                   ...       ...  \n",
       "310                 50                   4             27.953200       1.0  \n",
       "311                 52                   5             46.108269       0.0  \n",
       "312                 48                   5             37.612292       0.0  \n",
       "313                 45                   3             33.866889       0.0  \n",
       "314                 50                   5             75.414200       0.0  \n",
       "\n",
       "[315 rows x 8 columns]"
      ]
     },
     "execution_count": 12,
     "metadata": {},
     "output_type": "execute_result"
    }
   ],
   "source": [
    "X_train"
   ]
  },
  {
   "cell_type": "code",
   "execution_count": 13,
   "id": "ccfc95c1",
   "metadata": {},
   "outputs": [
    {
     "data": {
      "text/html": [
       "<div>\n",
       "<style scoped>\n",
       "    .dataframe tbody tr th:only-of-type {\n",
       "        vertical-align: middle;\n",
       "    }\n",
       "\n",
       "    .dataframe tbody tr th {\n",
       "        vertical-align: top;\n",
       "    }\n",
       "\n",
       "    .dataframe thead th {\n",
       "        text-align: right;\n",
       "    }\n",
       "</style>\n",
       "<table border=\"1\" class=\"dataframe\">\n",
       "  <thead>\n",
       "    <tr style=\"text-align: right;\">\n",
       "      <th></th>\n",
       "      <th>distance_from_store</th>\n",
       "      <th>credit_score</th>\n",
       "      <th>total_sales</th>\n",
       "      <th>total_items</th>\n",
       "      <th>transaction_count</th>\n",
       "      <th>product_area_count</th>\n",
       "      <th>average_basket_value</th>\n",
       "      <th>gender_M</th>\n",
       "    </tr>\n",
       "  </thead>\n",
       "  <tbody>\n",
       "    <tr>\n",
       "      <th>0</th>\n",
       "      <td>2.27</td>\n",
       "      <td>0.49</td>\n",
       "      <td>1506.49</td>\n",
       "      <td>281</td>\n",
       "      <td>47</td>\n",
       "      <td>3</td>\n",
       "      <td>32.052979</td>\n",
       "      <td>0.0</td>\n",
       "    </tr>\n",
       "    <tr>\n",
       "      <th>1</th>\n",
       "      <td>3.02</td>\n",
       "      <td>0.63</td>\n",
       "      <td>2401.64</td>\n",
       "      <td>278</td>\n",
       "      <td>50</td>\n",
       "      <td>5</td>\n",
       "      <td>48.032800</td>\n",
       "      <td>0.0</td>\n",
       "    </tr>\n",
       "    <tr>\n",
       "      <th>2</th>\n",
       "      <td>2.72</td>\n",
       "      <td>0.57</td>\n",
       "      <td>1620.52</td>\n",
       "      <td>246</td>\n",
       "      <td>53</td>\n",
       "      <td>5</td>\n",
       "      <td>30.575849</td>\n",
       "      <td>0.0</td>\n",
       "    </tr>\n",
       "    <tr>\n",
       "      <th>3</th>\n",
       "      <td>1.51</td>\n",
       "      <td>0.67</td>\n",
       "      <td>1785.67</td>\n",
       "      <td>331</td>\n",
       "      <td>53</td>\n",
       "      <td>5</td>\n",
       "      <td>33.691887</td>\n",
       "      <td>1.0</td>\n",
       "    </tr>\n",
       "    <tr>\n",
       "      <th>4</th>\n",
       "      <td>1.34</td>\n",
       "      <td>0.57</td>\n",
       "      <td>1682.14</td>\n",
       "      <td>364</td>\n",
       "      <td>47</td>\n",
       "      <td>4</td>\n",
       "      <td>35.790213</td>\n",
       "      <td>1.0</td>\n",
       "    </tr>\n",
       "    <tr>\n",
       "      <th>...</th>\n",
       "      <td>...</td>\n",
       "      <td>...</td>\n",
       "      <td>...</td>\n",
       "      <td>...</td>\n",
       "      <td>...</td>\n",
       "      <td>...</td>\n",
       "      <td>...</td>\n",
       "      <td>...</td>\n",
       "    </tr>\n",
       "    <tr>\n",
       "      <th>74</th>\n",
       "      <td>1.66</td>\n",
       "      <td>0.64</td>\n",
       "      <td>1811.00</td>\n",
       "      <td>344</td>\n",
       "      <td>48</td>\n",
       "      <td>4</td>\n",
       "      <td>37.729167</td>\n",
       "      <td>1.0</td>\n",
       "    </tr>\n",
       "    <tr>\n",
       "      <th>75</th>\n",
       "      <td>0.18</td>\n",
       "      <td>0.78</td>\n",
       "      <td>914.98</td>\n",
       "      <td>220</td>\n",
       "      <td>52</td>\n",
       "      <td>4</td>\n",
       "      <td>17.595769</td>\n",
       "      <td>1.0</td>\n",
       "    </tr>\n",
       "    <tr>\n",
       "      <th>76</th>\n",
       "      <td>4.02</td>\n",
       "      <td>0.48</td>\n",
       "      <td>322.92</td>\n",
       "      <td>81</td>\n",
       "      <td>13</td>\n",
       "      <td>4</td>\n",
       "      <td>24.840000</td>\n",
       "      <td>0.0</td>\n",
       "    </tr>\n",
       "    <tr>\n",
       "      <th>77</th>\n",
       "      <td>0.16</td>\n",
       "      <td>0.56</td>\n",
       "      <td>929.57</td>\n",
       "      <td>225</td>\n",
       "      <td>51</td>\n",
       "      <td>4</td>\n",
       "      <td>18.226863</td>\n",
       "      <td>1.0</td>\n",
       "    </tr>\n",
       "    <tr>\n",
       "      <th>78</th>\n",
       "      <td>0.06</td>\n",
       "      <td>0.27</td>\n",
       "      <td>1252.39</td>\n",
       "      <td>219</td>\n",
       "      <td>55</td>\n",
       "      <td>5</td>\n",
       "      <td>22.770727</td>\n",
       "      <td>1.0</td>\n",
       "    </tr>\n",
       "  </tbody>\n",
       "</table>\n",
       "<p>79 rows × 8 columns</p>\n",
       "</div>"
      ],
      "text/plain": [
       "    distance_from_store  credit_score  total_sales  total_items  \\\n",
       "0                  2.27          0.49      1506.49          281   \n",
       "1                  3.02          0.63      2401.64          278   \n",
       "2                  2.72          0.57      1620.52          246   \n",
       "3                  1.51          0.67      1785.67          331   \n",
       "4                  1.34          0.57      1682.14          364   \n",
       "..                  ...           ...          ...          ...   \n",
       "74                 1.66          0.64      1811.00          344   \n",
       "75                 0.18          0.78       914.98          220   \n",
       "76                 4.02          0.48       322.92           81   \n",
       "77                 0.16          0.56       929.57          225   \n",
       "78                 0.06          0.27      1252.39          219   \n",
       "\n",
       "    transaction_count  product_area_count  average_basket_value  gender_M  \n",
       "0                  47                   3             32.052979       0.0  \n",
       "1                  50                   5             48.032800       0.0  \n",
       "2                  53                   5             30.575849       0.0  \n",
       "3                  53                   5             33.691887       1.0  \n",
       "4                  47                   4             35.790213       1.0  \n",
       "..                ...                 ...                   ...       ...  \n",
       "74                 48                   4             37.729167       1.0  \n",
       "75                 52                   4             17.595769       1.0  \n",
       "76                 13                   4             24.840000       0.0  \n",
       "77                 51                   4             18.226863       1.0  \n",
       "78                 55                   5             22.770727       1.0  \n",
       "\n",
       "[79 rows x 8 columns]"
      ]
     },
     "execution_count": 13,
     "metadata": {},
     "output_type": "execute_result"
    }
   ],
   "source": [
    "X_test"
   ]
  },
  {
   "cell_type": "code",
   "execution_count": 18,
   "id": "ad74e1c8",
   "metadata": {},
   "outputs": [
    {
     "data": {
      "text/plain": [
       "RandomForestRegressor(random_state=42)"
      ]
     },
     "execution_count": 18,
     "metadata": {},
     "output_type": "execute_result"
    }
   ],
   "source": [
    "# model training\n",
    "regressor = RandomForestRegressor(random_state = 42)\n",
    "regressor.fit(X_train, y_train)"
   ]
  },
  {
   "cell_type": "code",
   "execution_count": 19,
   "id": "89542f6d",
   "metadata": {},
   "outputs": [],
   "source": [
    "# predict on the test set\n",
    "y_pred = regressor.predict(X_test)"
   ]
  },
  {
   "cell_type": "code",
   "execution_count": 20,
   "id": "c04c58c7",
   "metadata": {},
   "outputs": [
    {
     "data": {
      "text/plain": [
       "0.9598627943571644"
      ]
     },
     "execution_count": 20,
     "metadata": {},
     "output_type": "execute_result"
    }
   ],
   "source": [
    "# calculate r-squared\n",
    "r_squared = r2_score(y_test, y_pred)\n",
    "r_squared"
   ]
  },
  {
   "cell_type": "code",
   "execution_count": 21,
   "id": "b93098ba",
   "metadata": {},
   "outputs": [
    {
     "data": {
      "text/plain": [
       "0.9248589874052471"
      ]
     },
     "execution_count": 21,
     "metadata": {},
     "output_type": "execute_result"
    }
   ],
   "source": [
    "# cross validation\n",
    "cv = KFold(n_splits = 4, shuffle = True, random_state = 42)\n",
    "cv_scores = cross_val_score(regressor, X_train, y_train, cv = cv, scoring = \"r2\")\n",
    "cv_scores.mean()"
   ]
  },
  {
   "cell_type": "code",
   "execution_count": 22,
   "id": "1d746390",
   "metadata": {},
   "outputs": [
    {
     "name": "stdout",
     "output_type": "stream",
     "text": [
      "79 8\n",
      "0.9552756851408403\n"
     ]
    }
   ],
   "source": [
    "# calculate adjusted r-squared\n",
    "num_data_point, num_input_vars = X_test.shape\n",
    "print(num_data_point, num_input_vars)\n",
    "adjusted_r_squared = 1 -(1-r_squared)*(num_data_point-1)/(num_data_point - num_input_vars -1)\n",
    "print(adjusted_r_squared)"
   ]
  },
  {
   "cell_type": "code",
   "execution_count": 24,
   "id": "e7a42ea1",
   "metadata": {},
   "outputs": [],
   "source": [
    "# Feature Importance\n",
    "\n",
    "feature_importance = pd.DataFrame(regressor.feature_importances_)\n",
    "feature_names = pd.DataFrame(X.columns)\n",
    "feature_importance_summary = pd.concat([feature_names,feature_importance], axis = 1)\n",
    "feature_importance_summary.columns = [\"input_variable\", \"feature_importance\"]\n",
    "feature_importance_summary.sort_values(by = \"feature_importance\", inplace = True)"
   ]
  },
  {
   "cell_type": "code",
   "execution_count": 25,
   "id": "3e67c32e",
   "metadata": {
    "scrolled": true
   },
   "outputs": [
    {
     "data": {
      "image/png": "[encoded data removed]",
      "text/plain": [
       "<Figure size 640x480 with 1 Axes>"
      ]
     },
     "metadata": {},
     "output_type": "display_data"
    }
   ],
   "source": [
    "\n",
    "plt.barh(feature_importance_summary[\"input_variable\"], feature_importance_summary[\"feature_importance\"])\n",
    "plt.title(\"Feature Importance of Random Forest\")\n",
    "plt.xlabel(\"Feature Importance\")\n",
    "plt.tight_layout()\n",
    "plt.show()"
   ]
  },
  {
   "cell_type": "code",
   "execution_count": 26,
   "id": "1e33c6c6",
   "metadata": {},
   "outputs": [],
   "source": [
    "# Permutation Importance\n",
    "\n",
    "result = permutation_importance(regressor, X_test, y_test, n_repeats = 10, random_state = 42)"
   ]
  },
  {
   "cell_type": "code",
   "execution_count": 27,
   "id": "0232d904",
   "metadata": {
    "scrolled": true
   },
   "outputs": [
    {
     "data": {
      "text/plain": [
       "{'importances_mean': array([1.45815078e+00, 1.27463198e-03, 1.18714590e-01, 1.29790448e-01,\n",
       "        1.74368314e-02, 4.40707405e-02, 8.22511134e-03, 4.00298537e-03]),\n",
       " 'importances_std': array([0.1803007 , 0.00124786, 0.02175463, 0.00978399, 0.00387002,\n",
       "        0.00931063, 0.00327316, 0.00149292]),\n",
       " 'importances': array([[ 1.35805446e+00,  1.33153690e+00,  1.23947045e+00,\n",
       "          1.15372568e+00,  1.67458047e+00,  1.50216533e+00,\n",
       "          1.70916672e+00,  1.49599713e+00,  1.44612233e+00,\n",
       "          1.67068834e+00],\n",
       "        [ 1.28814398e-03,  1.61237588e-03,  4.33736701e-04,\n",
       "          1.63969324e-03,  5.96202645e-04,  3.81532598e-03,\n",
       "         -1.27024759e-03,  1.87601088e-03,  2.02644321e-03,\n",
       "          7.28634921e-04],\n",
       "        [ 1.01896138e-01,  1.28003609e-01,  1.67307696e-01,\n",
       "          1.20421584e-01,  1.30874769e-01,  1.03604171e-01,\n",
       "          8.31711550e-02,  1.06843535e-01,  1.12764762e-01,\n",
       "          1.32258481e-01],\n",
       "        [ 1.17741079e-01,  1.41796746e-01,  1.29612448e-01,\n",
       "          1.26334492e-01,  1.47794601e-01,  1.36421276e-01,\n",
       "          1.27743828e-01,  1.15864618e-01,  1.21081236e-01,\n",
       "          1.33514160e-01],\n",
       "        [ 1.72521628e-02,  1.61408886e-02,  2.05650632e-02,\n",
       "          8.85223624e-03,  1.76792508e-02,  1.79726869e-02,\n",
       "          1.87478043e-02,  1.90975296e-02,  1.38018084e-02,\n",
       "          2.42588826e-02],\n",
       "        [ 4.50563947e-02,  4.19557927e-02,  5.06116908e-02,\n",
       "          2.67049039e-02,  5.41685652e-02,  5.28305719e-02,\n",
       "          2.85398508e-02,  4.67759007e-02,  4.10188410e-02,\n",
       "          5.30448936e-02],\n",
       "        [ 2.90989851e-03,  8.59235100e-03,  1.10686781e-02,\n",
       "          8.34618135e-03,  1.01048238e-02,  4.69399440e-03,\n",
       "          4.72393654e-03,  1.29319370e-02,  6.49990115e-03,\n",
       "          1.23794115e-02],\n",
       "        [ 5.73609478e-03,  6.37147668e-03,  3.24500693e-03,\n",
       "          5.25920794e-03,  2.21224971e-03,  2.15104614e-03,\n",
       "          2.46728663e-03,  3.23970460e-03,  5.39653483e-03,\n",
       "          3.95124547e-03]])}"
      ]
     },
     "execution_count": 27,
     "metadata": {},
     "output_type": "execute_result"
    }
   ],
   "source": [
    "result"
   ]
  },
  {
   "cell_type": "code",
   "execution_count": 28,
   "id": "ac39b563",
   "metadata": {},
   "outputs": [],
   "source": [
    "permutation_importance = pd.DataFrame(result[\"importances_mean\"])\n",
    "feature_names = pd.DataFrame(X.columns)\n",
    "permutation_importance_summary = pd.concat([feature_names,permutation_importance], axis = 1)\n",
    "permutation_importance_summary.columns = [\"input_variable\", \"permutation_importance\"]\n",
    "permutation_importance_summary.sort_values(by = \"permutation_importance\", inplace = True)"
   ]
  },
  {
   "cell_type": "code",
   "execution_count": 29,
   "id": "e73fc717",
   "metadata": {
    "scrolled": true
   },
   "outputs": [
    {
     "data": {
      "image/png": "[encoded data removed]",
      "text/plain": [
       "<Figure size 640x480 with 1 Axes>"
      ]
     },
     "metadata": {},
     "output_type": "display_data"
    }
   ],
   "source": [
    "plt.barh(permutation_importance_summary[\"input_variable\"], permutation_importance_summary[\"permutation_importance\"])\n",
    "plt.title(\"Permutation Importance of Random Forest\")\n",
    "plt.xlabel(\"Permutation Importance\")\n",
    "plt.tight_layout()\n",
    "plt.show()"
   ]
  },
  {
   "cell_type": "code",
   "execution_count": 30,
   "id": "82ad415b",
   "metadata": {},
   "outputs": [
    {
     "data": {
      "text/plain": [
       "[DecisionTreeRegressor(max_features='auto', random_state=1608637542),\n",
       " DecisionTreeRegressor(max_features='auto', random_state=1273642419),\n",
       " DecisionTreeRegressor(max_features='auto', random_state=1935803228),\n",
       " DecisionTreeRegressor(max_features='auto', random_state=787846414),\n",
       " DecisionTreeRegressor(max_features='auto', random_state=996406378),\n",
       " DecisionTreeRegressor(max_features='auto', random_state=1201263687),\n",
       " DecisionTreeRegressor(max_features='auto', random_state=423734972),\n",
       " DecisionTreeRegressor(max_features='auto', random_state=415968276),\n",
       " DecisionTreeRegressor(max_features='auto', random_state=670094950),\n",
       " DecisionTreeRegressor(max_features='auto', random_state=1914837113),\n",
       " DecisionTreeRegressor(max_features='auto', random_state=669991378),\n",
       " DecisionTreeRegressor(max_features='auto', random_state=429389014),\n",
       " DecisionTreeRegressor(max_features='auto', random_state=249467210),\n",
       " DecisionTreeRegressor(max_features='auto', random_state=1972458954),\n",
       " DecisionTreeRegressor(max_features='auto', random_state=1572714583),\n",
       " DecisionTreeRegressor(max_features='auto', random_state=1433267572),\n",
       " DecisionTreeRegressor(max_features='auto', random_state=434285667),\n",
       " DecisionTreeRegressor(max_features='auto', random_state=613608295),\n",
       " DecisionTreeRegressor(max_features='auto', random_state=893664919),\n",
       " DecisionTreeRegressor(max_features='auto', random_state=648061058),\n",
       " DecisionTreeRegressor(max_features='auto', random_state=88409749),\n",
       " DecisionTreeRegressor(max_features='auto', random_state=242285876),\n",
       " DecisionTreeRegressor(max_features='auto', random_state=2018247425),\n",
       " DecisionTreeRegressor(max_features='auto', random_state=953477463),\n",
       " DecisionTreeRegressor(max_features='auto', random_state=1427830251),\n",
       " DecisionTreeRegressor(max_features='auto', random_state=1883569565),\n",
       " DecisionTreeRegressor(max_features='auto', random_state=911989541),\n",
       " DecisionTreeRegressor(max_features='auto', random_state=3344769),\n",
       " DecisionTreeRegressor(max_features='auto', random_state=780932287),\n",
       " DecisionTreeRegressor(max_features='auto', random_state=2114032571),\n",
       " DecisionTreeRegressor(max_features='auto', random_state=787716372),\n",
       " DecisionTreeRegressor(max_features='auto', random_state=504579232),\n",
       " DecisionTreeRegressor(max_features='auto', random_state=1306710475),\n",
       " DecisionTreeRegressor(max_features='auto', random_state=479546681),\n",
       " DecisionTreeRegressor(max_features='auto', random_state=106328085),\n",
       " DecisionTreeRegressor(max_features='auto', random_state=30349564),\n",
       " DecisionTreeRegressor(max_features='auto', random_state=1855189739),\n",
       " DecisionTreeRegressor(max_features='auto', random_state=99052376),\n",
       " DecisionTreeRegressor(max_features='auto', random_state=1250819632),\n",
       " DecisionTreeRegressor(max_features='auto', random_state=106406362),\n",
       " DecisionTreeRegressor(max_features='auto', random_state=480404538),\n",
       " DecisionTreeRegressor(max_features='auto', random_state=1717389822),\n",
       " DecisionTreeRegressor(max_features='auto', random_state=599121577),\n",
       " DecisionTreeRegressor(max_features='auto', random_state=200427519),\n",
       " DecisionTreeRegressor(max_features='auto', random_state=1254751707),\n",
       " DecisionTreeRegressor(max_features='auto', random_state=2034764475),\n",
       " DecisionTreeRegressor(max_features='auto', random_state=1573512143),\n",
       " DecisionTreeRegressor(max_features='auto', random_state=999745294),\n",
       " DecisionTreeRegressor(max_features='auto', random_state=1958805693),\n",
       " DecisionTreeRegressor(max_features='auto', random_state=389151677),\n",
       " DecisionTreeRegressor(max_features='auto', random_state=1224821422),\n",
       " DecisionTreeRegressor(max_features='auto', random_state=508464061),\n",
       " DecisionTreeRegressor(max_features='auto', random_state=857592370),\n",
       " DecisionTreeRegressor(max_features='auto', random_state=1642661739),\n",
       " DecisionTreeRegressor(max_features='auto', random_state=61136438),\n",
       " DecisionTreeRegressor(max_features='auto', random_state=2075460851),\n",
       " DecisionTreeRegressor(max_features='auto', random_state=396917567),\n",
       " DecisionTreeRegressor(max_features='auto', random_state=2004731384),\n",
       " DecisionTreeRegressor(max_features='auto', random_state=199502978),\n",
       " DecisionTreeRegressor(max_features='auto', random_state=1545932260),\n",
       " DecisionTreeRegressor(max_features='auto', random_state=461901618),\n",
       " DecisionTreeRegressor(max_features='auto', random_state=774414982),\n",
       " DecisionTreeRegressor(max_features='auto', random_state=732395540),\n",
       " DecisionTreeRegressor(max_features='auto', random_state=1934879560),\n",
       " DecisionTreeRegressor(max_features='auto', random_state=279394470),\n",
       " DecisionTreeRegressor(max_features='auto', random_state=56972561),\n",
       " DecisionTreeRegressor(max_features='auto', random_state=1927948675),\n",
       " DecisionTreeRegressor(max_features='auto', random_state=1899242072),\n",
       " DecisionTreeRegressor(max_features='auto', random_state=1999874363),\n",
       " DecisionTreeRegressor(max_features='auto', random_state=271820813),\n",
       " DecisionTreeRegressor(max_features='auto', random_state=1324556529),\n",
       " DecisionTreeRegressor(max_features='auto', random_state=1655351289),\n",
       " DecisionTreeRegressor(max_features='auto', random_state=1308306184),\n",
       " DecisionTreeRegressor(max_features='auto', random_state=68574553),\n",
       " DecisionTreeRegressor(max_features='auto', random_state=419498548),\n",
       " DecisionTreeRegressor(max_features='auto', random_state=991681409),\n",
       " DecisionTreeRegressor(max_features='auto', random_state=791274835),\n",
       " DecisionTreeRegressor(max_features='auto', random_state=1035196507),\n",
       " DecisionTreeRegressor(max_features='auto', random_state=1890440558),\n",
       " DecisionTreeRegressor(max_features='auto', random_state=787110843),\n",
       " DecisionTreeRegressor(max_features='auto', random_state=524150214),\n",
       " DecisionTreeRegressor(max_features='auto', random_state=472432043),\n",
       " DecisionTreeRegressor(max_features='auto', random_state=2126768636),\n",
       " DecisionTreeRegressor(max_features='auto', random_state=1431061255),\n",
       " DecisionTreeRegressor(max_features='auto', random_state=147697582),\n",
       " DecisionTreeRegressor(max_features='auto', random_state=744595490),\n",
       " DecisionTreeRegressor(max_features='auto', random_state=1758017741),\n",
       " DecisionTreeRegressor(max_features='auto', random_state=1679592528),\n",
       " DecisionTreeRegressor(max_features='auto', random_state=1111451555),\n",
       " DecisionTreeRegressor(max_features='auto', random_state=782698033),\n",
       " DecisionTreeRegressor(max_features='auto', random_state=698027879),\n",
       " DecisionTreeRegressor(max_features='auto', random_state=1096768899),\n",
       " DecisionTreeRegressor(max_features='auto', random_state=1338788865),\n",
       " DecisionTreeRegressor(max_features='auto', random_state=1826030589),\n",
       " DecisionTreeRegressor(max_features='auto', random_state=86191493),\n",
       " DecisionTreeRegressor(max_features='auto', random_state=893102645),\n",
       " DecisionTreeRegressor(max_features='auto', random_state=200619113),\n",
       " DecisionTreeRegressor(max_features='auto', random_state=290770691),\n",
       " DecisionTreeRegressor(max_features='auto', random_state=793943861),\n",
       " DecisionTreeRegressor(max_features='auto', random_state=134489564)]"
      ]
     },
     "execution_count": 30,
     "metadata": {},
     "output_type": "execute_result"
    }
   ],
   "source": [
    "y_pred[0]\n",
    "new_data = [X_test.iloc[0]]\n",
    "regressor.estimators_"
   ]
  },
  {
   "cell_type": "code",
   "execution_count": 31,
   "id": "dab61cd3",
   "metadata": {},
   "outputs": [
    {
     "name": "stdout",
     "output_type": "stream",
     "text": [
      "[0.201, 0.668, 0.117, 0.17, 0.203, 0.268, 0.17, 0.203, 0.23400000000000004, 0.17, 0.234, 0.12, 0.234, 0.174, 0.147, 0.352, 0.268, 0.234, 0.234, 0.234, 0.203, 0.17400000000000002, 0.17, 0.234, 0.177, 0.12, 0.314, 0.174, 0.234, 0.302, 0.352, 0.314, 0.234, 0.174, 0.116, 0.221, 0.147, 0.177, 0.203, 0.147, 0.12, 0.234, 0.234, 0.201, 0.177, 0.221, 0.203, 0.366, 0.201, 0.334, 0.366, 0.17, 0.448, 0.12, 0.234, 0.136, 0.23400000000000004, 0.17, 0.174, 0.201, 0.147, 0.201, 0.366, 0.344, 0.221, 0.17400000000000002, 0.234, 0.177, 0.17, 0.12, 0.42, 0.344, 0.12, 0.221, 0.17, 0.234, 0.17, 0.203, 0.234, 0.234, 0.314, 0.234, 0.234, 0.143, 0.17, 0.234, 0.201, 0.12, 0.174, 0.201, 0.35200000000000004, 0.234, 0.174, 0.506, 0.177, 0.352, 0.352, 0.147, 0.234, 0.201]\n"
     ]
    }
   ],
   "source": [
    "predictions = []\n",
    "tree_count = 0\n",
    "for tree in regressor.estimators_:\n",
    "    prediction = tree.predict(new_data)[0]\n",
    "    predictions.append(prediction)\n",
    "    tree_count +=1\n",
    "print(predictions)"
   ]
  },
  {
   "cell_type": "code",
   "execution_count": 32,
   "id": "b1c9565a",
   "metadata": {},
   "outputs": [
    {
     "data": {
      "text/plain": [
       "0.22624000000000016"
      ]
     },
     "execution_count": 32,
     "metadata": {},
     "output_type": "execute_result"
    }
   ],
   "source": [
    "sum(predictions)/tree_count"
   ]
  },
  {
   "cell_type": "code",
   "execution_count": 33,
   "id": "1955e672",
   "metadata": {},
   "outputs": [],
   "source": [
    "import pickle\n",
    "pickle.dump(regressor, open(\"data/random_forest_regression_model.p\", \"wb\"))\n",
    "pickle.dump(one_hot_encoder, open(\"data/random_forest_regression_ohe.p\", \"wb\"))"
   ]
  },
  {
   "cell_type": "code",
   "execution_count": null,
   "id": "5e66432b",
   "metadata": {},
   "outputs": [],
   "source": []
  }
 ],
 "metadata": {
  "kernelspec": {
   "display_name": "Python 3 (ipykernel)",
   "language": "python",
   "name": "python3"
  },
  "language_info": {
   "codemirror_mode": {
    "name": "ipython",
    "version": 3
   },
   "file_extension": ".py",
   "mimetype": "text/x-python",
   "name": "python",
   "nbconvert_exporter": "python",
   "pygments_lexer": "ipython3",
   "version": "3.9.13"
  }
 },
 "nbformat": 4,
 "nbformat_minor": 5
}
