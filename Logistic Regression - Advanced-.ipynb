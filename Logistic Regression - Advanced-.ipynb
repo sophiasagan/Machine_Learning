{
 "cells": [
  {
   "cell_type": "markdown",
   "id": "2728d358",
   "metadata": {},
   "source": [
    "# Logistic Regression - Advanced"
   ]
  },
  {
   "cell_type": "code",
   "execution_count": 1,
   "id": "e4f9e9e7",
   "metadata": {},
   "outputs": [],
   "source": [
    "import pandas as pd\n",
    "import pickle\n",
    "import matplotlib.pyplot as plt\n",
    "import numpy as np\n",
    "\n",
    "from sklearn.linear_model import LogisticRegression\n",
    "from sklearn.utils import shuffle\n",
    "from sklearn.model_selection import train_test_split, cross_val_score, KFold\n",
    "from sklearn.metrics import confusion_matrix, accuracy_score, precision_score, recall_score, f1_score\n",
    "from sklearn.preprocessing import OneHotEncoder\n",
    "from sklearn.feature_selection import RFECV"
   ]
  },
  {
   "cell_type": "code",
   "execution_count": 3,
   "id": "4b0e47a8",
   "metadata": {},
   "outputs": [],
   "source": [
    "data_for_model = pickle.load(open(\"data/abc_classification_modelling.p\", \"rb\"))"
   ]
  },
  {
   "cell_type": "code",
   "execution_count": 4,
   "id": "b7f66035",
   "metadata": {},
   "outputs": [],
   "source": [
    "data_for_model.drop(\"customer_id\", axis = 1, inplace = True)"
   ]
  },
  {
   "cell_type": "code",
   "execution_count": 5,
   "id": "a2f94082",
   "metadata": {},
   "outputs": [],
   "source": [
    "# shuffle data\n",
    "data_for_model = shuffle(data_for_model, random_state = 42)"
   ]
  },
  {
   "cell_type": "code",
   "execution_count": 6,
   "id": "5ba4dc95",
   "metadata": {
    "scrolled": true
   },
   "outputs": [
    {
     "data": {
      "text/html": [
       "<div>\n",
       "<style scoped>\n",
       "    .dataframe tbody tr th:only-of-type {\n",
       "        vertical-align: middle;\n",
       "    }\n",
       "\n",
       "    .dataframe tbody tr th {\n",
       "        vertical-align: top;\n",
       "    }\n",
       "\n",
       "    .dataframe thead th {\n",
       "        text-align: right;\n",
       "    }\n",
       "</style>\n",
       "<table border=\"1\" class=\"dataframe\">\n",
       "  <thead>\n",
       "    <tr style=\"text-align: right;\">\n",
       "      <th></th>\n",
       "      <th>signup_flag</th>\n",
       "      <th>distance_from_store</th>\n",
       "      <th>gender</th>\n",
       "      <th>credit_score</th>\n",
       "      <th>total_sales</th>\n",
       "      <th>total_items</th>\n",
       "      <th>transaction_count</th>\n",
       "      <th>product_area_count</th>\n",
       "      <th>average_basket_value</th>\n",
       "    </tr>\n",
       "  </thead>\n",
       "  <tbody>\n",
       "    <tr>\n",
       "      <th>714</th>\n",
       "      <td>0</td>\n",
       "      <td>1.64</td>\n",
       "      <td>M</td>\n",
       "      <td>0.58</td>\n",
       "      <td>27.81</td>\n",
       "      <td>6</td>\n",
       "      <td>3</td>\n",
       "      <td>3</td>\n",
       "      <td>9.270000</td>\n",
       "    </tr>\n",
       "    <tr>\n",
       "      <th>605</th>\n",
       "      <td>0</td>\n",
       "      <td>0.88</td>\n",
       "      <td>M</td>\n",
       "      <td>0.63</td>\n",
       "      <td>26.62</td>\n",
       "      <td>9</td>\n",
       "      <td>3</td>\n",
       "      <td>2</td>\n",
       "      <td>8.873333</td>\n",
       "    </tr>\n",
       "    <tr>\n",
       "      <th>120</th>\n",
       "      <td>0</td>\n",
       "      <td>0.56</td>\n",
       "      <td>M</td>\n",
       "      <td>0.62</td>\n",
       "      <td>886.78</td>\n",
       "      <td>154</td>\n",
       "      <td>18</td>\n",
       "      <td>4</td>\n",
       "      <td>49.265556</td>\n",
       "    </tr>\n",
       "    <tr>\n",
       "      <th>208</th>\n",
       "      <td>0</td>\n",
       "      <td>0.11</td>\n",
       "      <td>M</td>\n",
       "      <td>0.58</td>\n",
       "      <td>1256.19</td>\n",
       "      <td>168</td>\n",
       "      <td>34</td>\n",
       "      <td>5</td>\n",
       "      <td>36.946765</td>\n",
       "    </tr>\n",
       "    <tr>\n",
       "      <th>380</th>\n",
       "      <td>0</td>\n",
       "      <td>1.32</td>\n",
       "      <td>M</td>\n",
       "      <td>0.36</td>\n",
       "      <td>739.67</td>\n",
       "      <td>110</td>\n",
       "      <td>21</td>\n",
       "      <td>3</td>\n",
       "      <td>35.222381</td>\n",
       "    </tr>\n",
       "  </tbody>\n",
       "</table>\n",
       "</div>"
      ],
      "text/plain": [
       "     signup_flag  distance_from_store gender  credit_score  total_sales  \\\n",
       "714            0                 1.64      M          0.58        27.81   \n",
       "605            0                 0.88      M          0.63        26.62   \n",
       "120            0                 0.56      M          0.62       886.78   \n",
       "208            0                 0.11      M          0.58      1256.19   \n",
       "380            0                 1.32      M          0.36       739.67   \n",
       "\n",
       "     total_items  transaction_count  product_area_count  average_basket_value  \n",
       "714            6                  3                   3              9.270000  \n",
       "605            9                  3                   2              8.873333  \n",
       "120          154                 18                   4             49.265556  \n",
       "208          168                 34                   5             36.946765  \n",
       "380          110                 21                   3             35.222381  "
      ]
     },
     "execution_count": 6,
     "metadata": {},
     "output_type": "execute_result"
    }
   ],
   "source": [
    "data_for_model.head()"
   ]
  },
  {
   "cell_type": "code",
   "execution_count": 10,
   "id": "2bffacbb",
   "metadata": {},
   "outputs": [
    {
     "data": {
      "text/plain": [
       "0    0.689535\n",
       "1    0.310465\n",
       "Name: signup_flag, dtype: float64"
      ]
     },
     "execution_count": 10,
     "metadata": {},
     "output_type": "execute_result"
    }
   ],
   "source": [
    "# class balance\n",
    "data_for_model['signup_flag'].value_counts(normalize=True)"
   ]
  },
  {
   "cell_type": "code",
   "execution_count": 11,
   "id": "376c8aa1",
   "metadata": {},
   "outputs": [
    {
     "data": {
      "text/plain": [
       "signup_flag             0\n",
       "distance_from_store     5\n",
       "gender                  5\n",
       "credit_score            8\n",
       "total_sales             0\n",
       "total_items             0\n",
       "transaction_count       0\n",
       "product_area_count      0\n",
       "average_basket_value    0\n",
       "dtype: int64"
      ]
     },
     "execution_count": 11,
     "metadata": {},
     "output_type": "execute_result"
    }
   ],
   "source": [
    "# deal with missing values\n",
    "data_for_model.isna().sum()"
   ]
  },
  {
   "cell_type": "code",
   "execution_count": 12,
   "id": "b47b3cb2",
   "metadata": {},
   "outputs": [],
   "source": [
    "data_for_model.dropna(how = \"any\", inplace = True)"
   ]
  },
  {
   "cell_type": "code",
   "execution_count": 13,
   "id": "8c5a4521",
   "metadata": {},
   "outputs": [
    {
     "data": {
      "text/html": [
       "<div>\n",
       "<style scoped>\n",
       "    .dataframe tbody tr th:only-of-type {\n",
       "        vertical-align: middle;\n",
       "    }\n",
       "\n",
       "    .dataframe tbody tr th {\n",
       "        vertical-align: top;\n",
       "    }\n",
       "\n",
       "    .dataframe thead th {\n",
       "        text-align: right;\n",
       "    }\n",
       "</style>\n",
       "<table border=\"1\" class=\"dataframe\">\n",
       "  <thead>\n",
       "    <tr style=\"text-align: right;\">\n",
       "      <th></th>\n",
       "      <th>signup_flag</th>\n",
       "      <th>distance_from_store</th>\n",
       "      <th>credit_score</th>\n",
       "      <th>total_sales</th>\n",
       "      <th>total_items</th>\n",
       "      <th>transaction_count</th>\n",
       "      <th>product_area_count</th>\n",
       "      <th>average_basket_value</th>\n",
       "    </tr>\n",
       "  </thead>\n",
       "  <tbody>\n",
       "    <tr>\n",
       "      <th>count</th>\n",
       "      <td>847.000000</td>\n",
       "      <td>847.000000</td>\n",
       "      <td>847.000000</td>\n",
       "      <td>847.000000</td>\n",
       "      <td>847.000000</td>\n",
       "      <td>847.000000</td>\n",
       "      <td>847.000000</td>\n",
       "      <td>847.000000</td>\n",
       "    </tr>\n",
       "    <tr>\n",
       "      <th>mean</th>\n",
       "      <td>0.304604</td>\n",
       "      <td>2.614545</td>\n",
       "      <td>0.597521</td>\n",
       "      <td>968.166411</td>\n",
       "      <td>143.877214</td>\n",
       "      <td>22.214876</td>\n",
       "      <td>4.177096</td>\n",
       "      <td>38.034161</td>\n",
       "    </tr>\n",
       "    <tr>\n",
       "      <th>std</th>\n",
       "      <td>0.460512</td>\n",
       "      <td>14.397590</td>\n",
       "      <td>0.102264</td>\n",
       "      <td>1073.647531</td>\n",
       "      <td>125.342694</td>\n",
       "      <td>11.721699</td>\n",
       "      <td>0.920887</td>\n",
       "      <td>24.243691</td>\n",
       "    </tr>\n",
       "    <tr>\n",
       "      <th>min</th>\n",
       "      <td>0.000000</td>\n",
       "      <td>0.000000</td>\n",
       "      <td>0.260000</td>\n",
       "      <td>2.090000</td>\n",
       "      <td>1.000000</td>\n",
       "      <td>1.000000</td>\n",
       "      <td>1.000000</td>\n",
       "      <td>2.090000</td>\n",
       "    </tr>\n",
       "    <tr>\n",
       "      <th>25%</th>\n",
       "      <td>0.000000</td>\n",
       "      <td>0.730000</td>\n",
       "      <td>0.530000</td>\n",
       "      <td>383.940000</td>\n",
       "      <td>77.000000</td>\n",
       "      <td>16.000000</td>\n",
       "      <td>4.000000</td>\n",
       "      <td>21.734700</td>\n",
       "    </tr>\n",
       "    <tr>\n",
       "      <th>50%</th>\n",
       "      <td>0.000000</td>\n",
       "      <td>1.640000</td>\n",
       "      <td>0.590000</td>\n",
       "      <td>691.640000</td>\n",
       "      <td>123.000000</td>\n",
       "      <td>23.000000</td>\n",
       "      <td>4.000000</td>\n",
       "      <td>31.069333</td>\n",
       "    </tr>\n",
       "    <tr>\n",
       "      <th>75%</th>\n",
       "      <td>1.000000</td>\n",
       "      <td>2.920000</td>\n",
       "      <td>0.670000</td>\n",
       "      <td>1121.530000</td>\n",
       "      <td>170.500000</td>\n",
       "      <td>28.000000</td>\n",
       "      <td>5.000000</td>\n",
       "      <td>46.429973</td>\n",
       "    </tr>\n",
       "    <tr>\n",
       "      <th>max</th>\n",
       "      <td>1.000000</td>\n",
       "      <td>400.970000</td>\n",
       "      <td>0.880000</td>\n",
       "      <td>7372.060000</td>\n",
       "      <td>910.000000</td>\n",
       "      <td>75.000000</td>\n",
       "      <td>5.000000</td>\n",
       "      <td>141.054091</td>\n",
       "    </tr>\n",
       "  </tbody>\n",
       "</table>\n",
       "</div>"
      ],
      "text/plain": [
       "       signup_flag  distance_from_store  credit_score  total_sales  \\\n",
       "count   847.000000           847.000000    847.000000   847.000000   \n",
       "mean      0.304604             2.614545      0.597521   968.166411   \n",
       "std       0.460512            14.397590      0.102264  1073.647531   \n",
       "min       0.000000             0.000000      0.260000     2.090000   \n",
       "25%       0.000000             0.730000      0.530000   383.940000   \n",
       "50%       0.000000             1.640000      0.590000   691.640000   \n",
       "75%       1.000000             2.920000      0.670000  1121.530000   \n",
       "max       1.000000           400.970000      0.880000  7372.060000   \n",
       "\n",
       "       total_items  transaction_count  product_area_count  \\\n",
       "count   847.000000         847.000000          847.000000   \n",
       "mean    143.877214          22.214876            4.177096   \n",
       "std     125.342694          11.721699            0.920887   \n",
       "min       1.000000           1.000000            1.000000   \n",
       "25%      77.000000          16.000000            4.000000   \n",
       "50%     123.000000          23.000000            4.000000   \n",
       "75%     170.500000          28.000000            5.000000   \n",
       "max     910.000000          75.000000            5.000000   \n",
       "\n",
       "       average_basket_value  \n",
       "count            847.000000  \n",
       "mean              38.034161  \n",
       "std               24.243691  \n",
       "min                2.090000  \n",
       "25%               21.734700  \n",
       "50%               31.069333  \n",
       "75%               46.429973  \n",
       "max              141.054091  "
      ]
     },
     "execution_count": 13,
     "metadata": {},
     "output_type": "execute_result"
    }
   ],
   "source": [
    "# deal with Outliers\n",
    "outlier_investigation = data_for_model.describe()\n",
    "outlier_investigation"
   ]
  },
  {
   "cell_type": "code",
   "execution_count": 14,
   "id": "cc19abe2",
   "metadata": {},
   "outputs": [
    {
     "name": "stdout",
     "output_type": "stream",
     "text": [
      "8 outliers detected in column distance_from_store\n",
      "54 outliers detected in column total_sales\n",
      "3 outliers detected in column total_items\n"
     ]
    }
   ],
   "source": [
    "outlier_columns = [\"distance_from_store\", \"total_sales\", \"total_items\"]\n",
    "\n",
    "for column in outlier_columns:\n",
    "    lower_quartile = data_for_model[column].quantile(0.25)\n",
    "    upper_quartile = data_for_model[column].quantile(0.75)\n",
    "    iqr = upper_quartile - lower_quartile\n",
    "    iqr_extended = iqr * 2\n",
    "    min_border = lower_quartile - iqr_extended\n",
    "    max_border = upper_quartile + iqr_extended\n",
    "    \n",
    "    outliers = data_for_model[(data_for_model[column] < min_border) | (data_for_model[column] > max_border)].index\n",
    "    print(f\"{len(outliers)} outliers detected in column {column}\")\n",
    "    \n",
    "    data_for_model.drop(outliers, inplace = True)"
   ]
  },
  {
   "cell_type": "code",
   "execution_count": 15,
   "id": "1eba4d2e",
   "metadata": {},
   "outputs": [],
   "source": [
    "# split input variables & output variable\n",
    "X = data_for_model.drop([\"signup_flag\"], axis = 1)\n",
    "y = data_for_model[\"signup_flag\"]"
   ]
  },
  {
   "cell_type": "code",
   "execution_count": 17,
   "id": "35adfaf0",
   "metadata": {},
   "outputs": [],
   "source": [
    "# split out training and test sets\n",
    "X_train, X_test, y_train, y_test = train_test_split(X, y, test_size = 0.2, random_state = 42, stratify = y)"
   ]
  },
  {
   "cell_type": "code",
   "execution_count": 18,
   "id": "d423b864",
   "metadata": {},
   "outputs": [
    {
     "name": "stderr",
     "output_type": "stream",
     "text": [
      "C:\\Users\\sophi\\anaconda3\\lib\\site-packages\\sklearn\\utils\\deprecation.py:87: FutureWarning: Function get_feature_names is deprecated; get_feature_names is deprecated in 1.0 and will be removed in 1.2. Please use get_feature_names_out instead.\n",
      "  warnings.warn(msg, category=FutureWarning)\n"
     ]
    }
   ],
   "source": [
    "# deal with categorical variables\n",
    "categorical_vars = [\"gender\"]\n",
    "one_hot_encoder = OneHotEncoder(sparse=False, drop = 'first')\n",
    "\n",
    "X_train_encoded = one_hot_encoder.fit_transform(X_train[categorical_vars])\n",
    "X_test_encoded = one_hot_encoder.transform(X_test[categorical_vars])\n",
    "\n",
    "encoder_feature_names = one_hot_encoder.get_feature_names(categorical_vars)\n",
    "\n",
    "X_train_encoded = pd.DataFrame(X_train_encoded, columns = encoder_feature_names)\n",
    "X_train = pd.concat([X_train.reset_index(drop = True), X_train_encoded.reset_index(drop = True)], axis = 1)\n",
    "X_train.drop(categorical_vars, axis = 1, inplace = True)\n",
    "\n",
    "X_test_encoded = pd.DataFrame(X_test_encoded, columns = encoder_feature_names)\n",
    "X_test = pd.concat([X_test.reset_index(drop = True), X_test_encoded.reset_index(drop = True)], axis = 1)\n",
    "X_test.drop(categorical_vars, axis = 1, inplace = True)\n"
   ]
  },
  {
   "cell_type": "code",
   "execution_count": 19,
   "id": "d6ccd565",
   "metadata": {},
   "outputs": [
    {
     "data": {
      "text/html": [
       "<div>\n",
       "<style scoped>\n",
       "    .dataframe tbody tr th:only-of-type {\n",
       "        vertical-align: middle;\n",
       "    }\n",
       "\n",
       "    .dataframe tbody tr th {\n",
       "        vertical-align: top;\n",
       "    }\n",
       "\n",
       "    .dataframe thead th {\n",
       "        text-align: right;\n",
       "    }\n",
       "</style>\n",
       "<table border=\"1\" class=\"dataframe\">\n",
       "  <thead>\n",
       "    <tr style=\"text-align: right;\">\n",
       "      <th></th>\n",
       "      <th>distance_from_store</th>\n",
       "      <th>credit_score</th>\n",
       "      <th>total_sales</th>\n",
       "      <th>total_items</th>\n",
       "      <th>transaction_count</th>\n",
       "      <th>product_area_count</th>\n",
       "      <th>average_basket_value</th>\n",
       "      <th>gender_M</th>\n",
       "    </tr>\n",
       "  </thead>\n",
       "  <tbody>\n",
       "    <tr>\n",
       "      <th>0</th>\n",
       "      <td>0.07</td>\n",
       "      <td>0.57</td>\n",
       "      <td>746.15</td>\n",
       "      <td>133</td>\n",
       "      <td>24</td>\n",
       "      <td>5</td>\n",
       "      <td>31.089583</td>\n",
       "      <td>1.0</td>\n",
       "    </tr>\n",
       "    <tr>\n",
       "      <th>1</th>\n",
       "      <td>0.20</td>\n",
       "      <td>0.57</td>\n",
       "      <td>585.46</td>\n",
       "      <td>128</td>\n",
       "      <td>32</td>\n",
       "      <td>4</td>\n",
       "      <td>18.295625</td>\n",
       "      <td>1.0</td>\n",
       "    </tr>\n",
       "    <tr>\n",
       "      <th>2</th>\n",
       "      <td>3.07</td>\n",
       "      <td>0.53</td>\n",
       "      <td>1151.24</td>\n",
       "      <td>226</td>\n",
       "      <td>35</td>\n",
       "      <td>5</td>\n",
       "      <td>32.892571</td>\n",
       "      <td>0.0</td>\n",
       "    </tr>\n",
       "    <tr>\n",
       "      <th>3</th>\n",
       "      <td>2.86</td>\n",
       "      <td>0.77</td>\n",
       "      <td>14.03</td>\n",
       "      <td>8</td>\n",
       "      <td>2</td>\n",
       "      <td>2</td>\n",
       "      <td>7.015000</td>\n",
       "      <td>0.0</td>\n",
       "    </tr>\n",
       "    <tr>\n",
       "      <th>4</th>\n",
       "      <td>0.52</td>\n",
       "      <td>0.52</td>\n",
       "      <td>656.48</td>\n",
       "      <td>121</td>\n",
       "      <td>16</td>\n",
       "      <td>3</td>\n",
       "      <td>41.030000</td>\n",
       "      <td>1.0</td>\n",
       "    </tr>\n",
       "    <tr>\n",
       "      <th>...</th>\n",
       "      <td>...</td>\n",
       "      <td>...</td>\n",
       "      <td>...</td>\n",
       "      <td>...</td>\n",
       "      <td>...</td>\n",
       "      <td>...</td>\n",
       "      <td>...</td>\n",
       "      <td>...</td>\n",
       "    </tr>\n",
       "    <tr>\n",
       "      <th>620</th>\n",
       "      <td>0.39</td>\n",
       "      <td>0.72</td>\n",
       "      <td>564.47</td>\n",
       "      <td>146</td>\n",
       "      <td>25</td>\n",
       "      <td>4</td>\n",
       "      <td>22.578800</td>\n",
       "      <td>1.0</td>\n",
       "    </tr>\n",
       "    <tr>\n",
       "      <th>621</th>\n",
       "      <td>1.62</td>\n",
       "      <td>0.72</td>\n",
       "      <td>793.91</td>\n",
       "      <td>171</td>\n",
       "      <td>20</td>\n",
       "      <td>3</td>\n",
       "      <td>39.695500</td>\n",
       "      <td>1.0</td>\n",
       "    </tr>\n",
       "    <tr>\n",
       "      <th>622</th>\n",
       "      <td>2.60</td>\n",
       "      <td>0.65</td>\n",
       "      <td>847.01</td>\n",
       "      <td>123</td>\n",
       "      <td>22</td>\n",
       "      <td>5</td>\n",
       "      <td>38.500455</td>\n",
       "      <td>0.0</td>\n",
       "    </tr>\n",
       "    <tr>\n",
       "      <th>623</th>\n",
       "      <td>0.36</td>\n",
       "      <td>0.45</td>\n",
       "      <td>924.07</td>\n",
       "      <td>189</td>\n",
       "      <td>20</td>\n",
       "      <td>3</td>\n",
       "      <td>46.203500</td>\n",
       "      <td>1.0</td>\n",
       "    </tr>\n",
       "    <tr>\n",
       "      <th>624</th>\n",
       "      <td>1.36</td>\n",
       "      <td>0.59</td>\n",
       "      <td>429.66</td>\n",
       "      <td>95</td>\n",
       "      <td>26</td>\n",
       "      <td>5</td>\n",
       "      <td>16.525385</td>\n",
       "      <td>0.0</td>\n",
       "    </tr>\n",
       "  </tbody>\n",
       "</table>\n",
       "<p>625 rows × 8 columns</p>\n",
       "</div>"
      ],
      "text/plain": [
       "     distance_from_store  credit_score  total_sales  total_items  \\\n",
       "0                   0.07          0.57       746.15          133   \n",
       "1                   0.20          0.57       585.46          128   \n",
       "2                   3.07          0.53      1151.24          226   \n",
       "3                   2.86          0.77        14.03            8   \n",
       "4                   0.52          0.52       656.48          121   \n",
       "..                   ...           ...          ...          ...   \n",
       "620                 0.39          0.72       564.47          146   \n",
       "621                 1.62          0.72       793.91          171   \n",
       "622                 2.60          0.65       847.01          123   \n",
       "623                 0.36          0.45       924.07          189   \n",
       "624                 1.36          0.59       429.66           95   \n",
       "\n",
       "     transaction_count  product_area_count  average_basket_value  gender_M  \n",
       "0                   24                   5             31.089583       1.0  \n",
       "1                   32                   4             18.295625       1.0  \n",
       "2                   35                   5             32.892571       0.0  \n",
       "3                    2                   2              7.015000       0.0  \n",
       "4                   16                   3             41.030000       1.0  \n",
       "..                 ...                 ...                   ...       ...  \n",
       "620                 25                   4             22.578800       1.0  \n",
       "621                 20                   3             39.695500       1.0  \n",
       "622                 22                   5             38.500455       0.0  \n",
       "623                 20                   3             46.203500       1.0  \n",
       "624                 26                   5             16.525385       0.0  \n",
       "\n",
       "[625 rows x 8 columns]"
      ]
     },
     "execution_count": 19,
     "metadata": {},
     "output_type": "execute_result"
    }
   ],
   "source": [
    "X_train"
   ]
  },
  {
   "cell_type": "code",
   "execution_count": 20,
   "id": "ccfc95c1",
   "metadata": {},
   "outputs": [
    {
     "data": {
      "text/html": [
       "<div>\n",
       "<style scoped>\n",
       "    .dataframe tbody tr th:only-of-type {\n",
       "        vertical-align: middle;\n",
       "    }\n",
       "\n",
       "    .dataframe tbody tr th {\n",
       "        vertical-align: top;\n",
       "    }\n",
       "\n",
       "    .dataframe thead th {\n",
       "        text-align: right;\n",
       "    }\n",
       "</style>\n",
       "<table border=\"1\" class=\"dataframe\">\n",
       "  <thead>\n",
       "    <tr style=\"text-align: right;\">\n",
       "      <th></th>\n",
       "      <th>distance_from_store</th>\n",
       "      <th>credit_score</th>\n",
       "      <th>total_sales</th>\n",
       "      <th>total_items</th>\n",
       "      <th>transaction_count</th>\n",
       "      <th>product_area_count</th>\n",
       "      <th>average_basket_value</th>\n",
       "      <th>gender_M</th>\n",
       "    </tr>\n",
       "  </thead>\n",
       "  <tbody>\n",
       "    <tr>\n",
       "      <th>0</th>\n",
       "      <td>2.03</td>\n",
       "      <td>0.69</td>\n",
       "      <td>266.74</td>\n",
       "      <td>57</td>\n",
       "      <td>9</td>\n",
       "      <td>4</td>\n",
       "      <td>29.637778</td>\n",
       "      <td>1.0</td>\n",
       "    </tr>\n",
       "    <tr>\n",
       "      <th>1</th>\n",
       "      <td>2.27</td>\n",
       "      <td>0.49</td>\n",
       "      <td>1022.12</td>\n",
       "      <td>181</td>\n",
       "      <td>32</td>\n",
       "      <td>3</td>\n",
       "      <td>31.941250</td>\n",
       "      <td>0.0</td>\n",
       "    </tr>\n",
       "    <tr>\n",
       "      <th>2</th>\n",
       "      <td>2.62</td>\n",
       "      <td>0.54</td>\n",
       "      <td>610.88</td>\n",
       "      <td>117</td>\n",
       "      <td>27</td>\n",
       "      <td>5</td>\n",
       "      <td>22.625185</td>\n",
       "      <td>0.0</td>\n",
       "    </tr>\n",
       "    <tr>\n",
       "      <th>3</th>\n",
       "      <td>0.85</td>\n",
       "      <td>0.61</td>\n",
       "      <td>969.10</td>\n",
       "      <td>181</td>\n",
       "      <td>34</td>\n",
       "      <td>5</td>\n",
       "      <td>28.502941</td>\n",
       "      <td>1.0</td>\n",
       "    </tr>\n",
       "    <tr>\n",
       "      <th>4</th>\n",
       "      <td>2.17</td>\n",
       "      <td>0.51</td>\n",
       "      <td>103.49</td>\n",
       "      <td>27</td>\n",
       "      <td>7</td>\n",
       "      <td>4</td>\n",
       "      <td>14.784286</td>\n",
       "      <td>1.0</td>\n",
       "    </tr>\n",
       "    <tr>\n",
       "      <th>...</th>\n",
       "      <td>...</td>\n",
       "      <td>...</td>\n",
       "      <td>...</td>\n",
       "      <td>...</td>\n",
       "      <td>...</td>\n",
       "      <td>...</td>\n",
       "      <td>...</td>\n",
       "      <td>...</td>\n",
       "    </tr>\n",
       "    <tr>\n",
       "      <th>152</th>\n",
       "      <td>1.04</td>\n",
       "      <td>0.59</td>\n",
       "      <td>627.02</td>\n",
       "      <td>96</td>\n",
       "      <td>26</td>\n",
       "      <td>5</td>\n",
       "      <td>24.116154</td>\n",
       "      <td>0.0</td>\n",
       "    </tr>\n",
       "    <tr>\n",
       "      <th>153</th>\n",
       "      <td>0.75</td>\n",
       "      <td>0.74</td>\n",
       "      <td>425.96</td>\n",
       "      <td>95</td>\n",
       "      <td>24</td>\n",
       "      <td>4</td>\n",
       "      <td>17.748333</td>\n",
       "      <td>0.0</td>\n",
       "    </tr>\n",
       "    <tr>\n",
       "      <th>154</th>\n",
       "      <td>0.72</td>\n",
       "      <td>0.72</td>\n",
       "      <td>494.77</td>\n",
       "      <td>91</td>\n",
       "      <td>22</td>\n",
       "      <td>5</td>\n",
       "      <td>22.489545</td>\n",
       "      <td>1.0</td>\n",
       "    </tr>\n",
       "    <tr>\n",
       "      <th>155</th>\n",
       "      <td>3.97</td>\n",
       "      <td>0.72</td>\n",
       "      <td>2145.14</td>\n",
       "      <td>227</td>\n",
       "      <td>25</td>\n",
       "      <td>5</td>\n",
       "      <td>85.805600</td>\n",
       "      <td>0.0</td>\n",
       "    </tr>\n",
       "    <tr>\n",
       "      <th>156</th>\n",
       "      <td>1.20</td>\n",
       "      <td>0.70</td>\n",
       "      <td>368.03</td>\n",
       "      <td>81</td>\n",
       "      <td>15</td>\n",
       "      <td>4</td>\n",
       "      <td>24.535333</td>\n",
       "      <td>1.0</td>\n",
       "    </tr>\n",
       "  </tbody>\n",
       "</table>\n",
       "<p>157 rows × 8 columns</p>\n",
       "</div>"
      ],
      "text/plain": [
       "     distance_from_store  credit_score  total_sales  total_items  \\\n",
       "0                   2.03          0.69       266.74           57   \n",
       "1                   2.27          0.49      1022.12          181   \n",
       "2                   2.62          0.54       610.88          117   \n",
       "3                   0.85          0.61       969.10          181   \n",
       "4                   2.17          0.51       103.49           27   \n",
       "..                   ...           ...          ...          ...   \n",
       "152                 1.04          0.59       627.02           96   \n",
       "153                 0.75          0.74       425.96           95   \n",
       "154                 0.72          0.72       494.77           91   \n",
       "155                 3.97          0.72      2145.14          227   \n",
       "156                 1.20          0.70       368.03           81   \n",
       "\n",
       "     transaction_count  product_area_count  average_basket_value  gender_M  \n",
       "0                    9                   4             29.637778       1.0  \n",
       "1                   32                   3             31.941250       0.0  \n",
       "2                   27                   5             22.625185       0.0  \n",
       "3                   34                   5             28.502941       1.0  \n",
       "4                    7                   4             14.784286       1.0  \n",
       "..                 ...                 ...                   ...       ...  \n",
       "152                 26                   5             24.116154       0.0  \n",
       "153                 24                   4             17.748333       0.0  \n",
       "154                 22                   5             22.489545       1.0  \n",
       "155                 25                   5             85.805600       0.0  \n",
       "156                 15                   4             24.535333       1.0  \n",
       "\n",
       "[157 rows x 8 columns]"
      ]
     },
     "execution_count": 20,
     "metadata": {},
     "output_type": "execute_result"
    }
   ],
   "source": [
    "X_test"
   ]
  },
  {
   "cell_type": "code",
   "execution_count": 21,
   "id": "bcbc0f58",
   "metadata": {},
   "outputs": [],
   "source": [
    "# feature selection\n",
    "clf = LogisticRegression(random_state = 42, max_iter = 1000)\n",
    "feature_selector = RFECV(clf)\n",
    "fit = feature_selector.fit(X_train,y_train)"
   ]
  },
  {
   "cell_type": "code",
   "execution_count": 22,
   "id": "91c6bd88",
   "metadata": {},
   "outputs": [
    {
     "name": "stdout",
     "output_type": "stream",
     "text": [
      "Optimal number of features: 7\n"
     ]
    }
   ],
   "source": [
    "optimal_feature_count = feature_selector.n_features_\n",
    "print(f\"Optimal number of features: {optimal_feature_count}\")"
   ]
  },
  {
   "cell_type": "code",
   "execution_count": 23,
   "id": "21121816",
   "metadata": {},
   "outputs": [],
   "source": [
    "X_train = X_train.loc[:, feature_selector.get_support()]\n",
    "X_test = X_test.loc[:, feature_selector.get_support()]"
   ]
  },
  {
   "cell_type": "code",
   "execution_count": 24,
   "id": "65d590bb",
   "metadata": {},
   "outputs": [
    {
     "name": "stderr",
     "output_type": "stream",
     "text": [
      "C:\\Users\\sophi\\anaconda3\\lib\\site-packages\\sklearn\\utils\\deprecation.py:103: FutureWarning: The `grid_scores_` attribute is deprecated in version 1.0 in favor of `cv_results_` and will be removed in version 1.2.\n",
      "  warnings.warn(msg, category=FutureWarning)\n"
     ]
    },
    {
     "data": {
      "text/plain": [
       "Text(0.5, 1.0, 'Feature Selection using RFE \\n Optimal number of features is 7')"
      ]
     },
     "execution_count": 24,
     "metadata": {},
     "output_type": "execute_result"
    },
    {
     "data": {
      "image/png": "[encoded data removed]",
      "text/plain": [
       "<Figure size 640x480 with 1 Axes>"
      ]
     },
     "metadata": {},
     "output_type": "display_data"
    }
   ],
   "source": [
    "plt.plot(range(1, len(fit.grid_scores_) + 1), fit.grid_scores_, marker = \"o\")\n",
    "plt.ylabel(\"Model Score\")\n",
    "plt.xlabel(\"number of Features\")\n",
    "plt.title(f\"Feature Selection using RFE \\n Optimal number of features is {optimal_feature_count}\")"
   ]
  },
  {
   "cell_type": "code",
   "execution_count": 25,
   "id": "ad74e1c8",
   "metadata": {
    "scrolled": false
   },
   "outputs": [
    {
     "data": {
      "text/plain": [
       "LogisticRegression(max_iter=1000, random_state=42)"
      ]
     },
     "execution_count": 25,
     "metadata": {},
     "output_type": "execute_result"
    }
   ],
   "source": [
    "# model training\n",
    "clf = LogisticRegression(random_state = 42, max_iter = 1000)\n",
    "clf.fit(X_train, y_train)"
   ]
  },
  {
   "cell_type": "code",
   "execution_count": 26,
   "id": "935b94ea",
   "metadata": {},
   "outputs": [
    {
     "data": {
      "text/plain": [
       "array([0, 0, 1, 0, 0, 1, 0, 0, 0, 0, 0, 0, 0, 0, 0, 0, 0, 0, 0, 0, 1, 1,\n",
       "       1, 1, 0, 0, 0, 0, 0, 0, 1, 1, 0, 0, 0, 0, 1, 0, 0, 1, 0, 0, 0, 0,\n",
       "       0, 0, 1, 0, 0, 0, 0, 0, 1, 0, 0, 0, 1, 1, 0, 0, 1, 1, 0, 0, 0, 0,\n",
       "       0, 0, 0, 0, 1, 0, 0, 0, 0, 1, 1, 1, 0, 0, 0, 0, 0, 1, 0, 0, 0, 1,\n",
       "       0, 0, 0, 0, 1, 0, 0, 0, 0, 0, 1, 0, 0, 0, 0, 1, 0, 0, 0, 1, 0, 0,\n",
       "       0, 0, 0, 1, 0, 0, 0, 0, 0, 0, 0, 0, 0, 0, 1, 0, 0, 0, 1, 0, 0, 1,\n",
       "       0, 0, 0, 0, 1, 0, 1, 1, 0, 1, 0, 1, 0, 0, 0, 0, 0, 0, 0, 1, 0, 0,\n",
       "       0, 1, 0], dtype=int64)"
      ]
     },
     "execution_count": 26,
     "metadata": {},
     "output_type": "execute_result"
    }
   ],
   "source": [
    "y_pred_class = clf.predict(X_test)\n",
    "y_pred_class"
   ]
  },
  {
   "cell_type": "code",
   "execution_count": 28,
   "id": "23df41b5",
   "metadata": {},
   "outputs": [
    {
     "data": {
      "text/plain": [
       "array([9.98125160e-03, 1.66721151e-01, 7.79063985e-01, 5.13665047e-02,\n",
       "       4.89391586e-03, 9.31728129e-01, 2.85778040e-05, 4.77249015e-02,\n",
       "       9.29179472e-06, 1.63752366e-04, 4.04281055e-02, 1.36727273e-02,\n",
       "       2.90094720e-03, 5.65827522e-02, 1.25235257e-02, 4.32056804e-01,\n",
       "       1.05439313e-02, 3.77264817e-04, 7.15143281e-03, 6.15081551e-02,\n",
       "       6.12770159e-01, 7.46843276e-01, 7.46714808e-01, 5.88963554e-01,\n",
       "       8.60457076e-04, 2.36299678e-03, 6.04251585e-03, 3.07542036e-01,\n",
       "       1.52525093e-01, 1.33553088e-01, 8.33480561e-01, 9.99451927e-01,\n",
       "       2.37824188e-01, 1.64040785e-02, 9.49569020e-02, 4.79080139e-05,\n",
       "       9.84220687e-01, 1.37088295e-01, 1.54319026e-04, 6.26064475e-01,\n",
       "       6.60969430e-04, 9.04457088e-03, 1.80363682e-02, 3.77331345e-01,\n",
       "       1.92085213e-02, 2.20938188e-02, 8.56154228e-01, 2.09435824e-02,\n",
       "       3.56217190e-02, 1.16402346e-02, 1.28676735e-01, 2.08019558e-01,\n",
       "       6.38980211e-01, 1.33942107e-01, 2.16967711e-01, 1.35342371e-02,\n",
       "       8.82200813e-01, 6.52710190e-01, 9.89319541e-02, 3.21089566e-01,\n",
       "       7.76073500e-01, 5.27277964e-01, 6.05222998e-03, 1.29991828e-02,\n",
       "       4.68548981e-01, 1.08214982e-02, 2.15998583e-02, 5.77628303e-02,\n",
       "       1.75308133e-01, 3.73694378e-03, 9.76722329e-01, 9.19470586e-03,\n",
       "       5.85237548e-06, 1.66995460e-03, 9.71156496e-02, 6.07052483e-01,\n",
       "       6.96132506e-01, 6.01113665e-01, 1.44068907e-02, 1.84601553e-02,\n",
       "       2.03911729e-02, 4.23429945e-01, 2.98948955e-05, 8.38996713e-01,\n",
       "       3.03429482e-02, 4.37552084e-01, 1.69199701e-01, 9.98874221e-01,\n",
       "       3.83969906e-01, 1.23161245e-01, 9.69218008e-04, 1.52033293e-02,\n",
       "       7.94717383e-01, 5.71435979e-04, 2.51613241e-04, 1.31419488e-03,\n",
       "       6.65905915e-04, 3.15886685e-04, 7.07645525e-01, 4.90906646e-01,\n",
       "       4.20316680e-01, 9.56156311e-04, 1.91367946e-03, 9.99661825e-01,\n",
       "       1.33565816e-06, 4.99246003e-01, 1.76488414e-01, 9.58745016e-01,\n",
       "       1.09673873e-02, 5.96150704e-04, 1.05694962e-02, 1.00096495e-03,\n",
       "       1.02819233e-01, 8.60952664e-01, 3.45069762e-02, 2.59953996e-02,\n",
       "       2.58117942e-02, 7.63122993e-03, 8.25102492e-04, 4.27445178e-02,\n",
       "       6.11626986e-05, 1.98366299e-01, 2.17099128e-03, 1.64385033e-01,\n",
       "       6.99164026e-01, 2.94643362e-01, 7.88865865e-04, 1.22830151e-02,\n",
       "       9.20208262e-01, 9.77124546e-02, 7.72306112e-02, 9.21215111e-01,\n",
       "       2.79119291e-03, 2.46504366e-01, 7.19660841e-02, 1.72452094e-05,\n",
       "       8.51954165e-01, 1.89780418e-01, 9.71941236e-01, 5.80927659e-01,\n",
       "       9.08000868e-02, 9.03122023e-01, 1.01533731e-03, 6.20267705e-01,\n",
       "       6.16338387e-03, 4.20328176e-04, 6.79575949e-02, 3.20905344e-03,\n",
       "       5.84984324e-04, 1.28839907e-01, 3.23664411e-04, 9.52188441e-01,\n",
       "       1.33766615e-01, 1.11724192e-02, 1.05385746e-02, 9.98512126e-01,\n",
       "       2.78671073e-03])"
      ]
     },
     "execution_count": 28,
     "metadata": {},
     "output_type": "execute_result"
    }
   ],
   "source": [
    "y_pred_prob = clf.predict_proba(X_test)[:,1]\n",
    "y_pred_prob"
   ]
  },
  {
   "cell_type": "code",
   "execution_count": 29,
   "id": "39ba113d",
   "metadata": {},
   "outputs": [
    {
     "data": {
      "text/plain": [
       "array([[107,   8],\n",
       "       [ 13,  29]], dtype=int64)"
      ]
     },
     "execution_count": 29,
     "metadata": {},
     "output_type": "execute_result"
    }
   ],
   "source": [
    "# confusion matrix\n",
    "conf_matrix = confusion_matrix(y_test, y_pred_class)\n",
    "conf_matrix"
   ]
  },
  {
   "cell_type": "code",
   "execution_count": 30,
   "id": "c9e45460",
   "metadata": {},
   "outputs": [
    {
     "data": {
      "image/png": "[encoded data removed]",
      "text/plain": [
       "<Figure size 880x880 with 1 Axes>"
      ]
     },
     "metadata": {},
     "output_type": "display_data"
    }
   ],
   "source": [
    "import numpy as np\n",
    "\n",
    "plt.style.use(\"seaborn-poster\")\n",
    "plt.matshow(conf_matrix, cmap = \"coolwarm\")\n",
    "plt.gca().xaxis.tick_bottom()\n",
    "plt.title(\"Confusion Matrix\")\n",
    "plt.ylabel(\"Actual Class\")\n",
    "plt.xlabel(\"Predicted Class\")\n",
    "for (i, j), corr_value in np.ndenumerate(conf_matrix):\n",
    "    plt.text(j,i,corr_value,ha =\"center\", va=\"center\",fontsize=20)\n",
    "plt.show()"
   ]
  },
  {
   "cell_type": "code",
   "execution_count": 31,
   "id": "df966986",
   "metadata": {},
   "outputs": [
    {
     "data": {
      "text/plain": [
       "0.8662420382165605"
      ]
     },
     "execution_count": 31,
     "metadata": {},
     "output_type": "execute_result"
    }
   ],
   "source": [
    "# Accuracy (the number of correct classification out of all attempted classifications)\n",
    "accuracy_score(y_test, y_pred_class)"
   ]
  },
  {
   "cell_type": "code",
   "execution_count": 32,
   "id": "5c490473",
   "metadata": {},
   "outputs": [
    {
     "data": {
      "text/plain": [
       "0.7837837837837838"
      ]
     },
     "execution_count": 32,
     "metadata": {},
     "output_type": "execute_result"
    }
   ],
   "source": [
    "# Precision (of all observations that were predicted as positive, how many were actually positive)\n",
    "precision_score(y_test, y_pred_class)"
   ]
  },
  {
   "cell_type": "code",
   "execution_count": 33,
   "id": "6b94ad60",
   "metadata": {},
   "outputs": [
    {
     "data": {
      "text/plain": [
       "0.6904761904761905"
      ]
     },
     "execution_count": 33,
     "metadata": {},
     "output_type": "execute_result"
    }
   ],
   "source": [
    "# Recall (of all positive observations, how many did we predict as positive)\n",
    "recall_score(y_test, y_pred_class)"
   ]
  },
  {
   "cell_type": "code",
   "execution_count": 34,
   "id": "31f20f65",
   "metadata": {},
   "outputs": [
    {
     "data": {
      "text/plain": [
       "0.7341772151898734"
      ]
     },
     "execution_count": 34,
     "metadata": {},
     "output_type": "execute_result"
    }
   ],
   "source": [
    "# F1-score (the harmonic mean of precision and recall)\n",
    "f1_score(y_test, y_pred_class)"
   ]
  },
  {
   "cell_type": "markdown",
   "id": "4876d6af",
   "metadata": {},
   "source": [
    "#### Finding Optimal Threshold"
   ]
  },
  {
   "cell_type": "code",
   "execution_count": 36,
   "id": "45548948",
   "metadata": {},
   "outputs": [
    {
     "data": {
      "text/plain": [
       "array([0.  , 0.01, 0.02, 0.03, 0.04, 0.05, 0.06, 0.07, 0.08, 0.09, 0.1 ,\n",
       "       0.11, 0.12, 0.13, 0.14, 0.15, 0.16, 0.17, 0.18, 0.19, 0.2 , 0.21,\n",
       "       0.22, 0.23, 0.24, 0.25, 0.26, 0.27, 0.28, 0.29, 0.3 , 0.31, 0.32,\n",
       "       0.33, 0.34, 0.35, 0.36, 0.37, 0.38, 0.39, 0.4 , 0.41, 0.42, 0.43,\n",
       "       0.44, 0.45, 0.46, 0.47, 0.48, 0.49, 0.5 , 0.51, 0.52, 0.53, 0.54,\n",
       "       0.55, 0.56, 0.57, 0.58, 0.59, 0.6 , 0.61, 0.62, 0.63, 0.64, 0.65,\n",
       "       0.66, 0.67, 0.68, 0.69, 0.7 , 0.71, 0.72, 0.73, 0.74, 0.75, 0.76,\n",
       "       0.77, 0.78, 0.79, 0.8 , 0.81, 0.82, 0.83, 0.84, 0.85, 0.86, 0.87,\n",
       "       0.88, 0.89, 0.9 , 0.91, 0.92, 0.93, 0.94, 0.95, 0.96, 0.97, 0.98,\n",
       "       0.99])"
      ]
     },
     "execution_count": 36,
     "metadata": {},
     "output_type": "execute_result"
    }
   ],
   "source": [
    "thresholds = np.arange(0,1,0.01)\n",
    "thresholds"
   ]
  },
  {
   "cell_type": "code",
   "execution_count": 37,
   "id": "5c559443",
   "metadata": {},
   "outputs": [],
   "source": [
    "precision_scores = []\n",
    "recall_scores = []\n",
    "f1_scores = []\n",
    "\n",
    "for threshold in thresholds:\n",
    "    \n",
    "    pred_class = (y_pred_prob >= threshold) * 1\n",
    "    \n",
    "    precision = precision_score(y_test, pred_class, zero_division = 0)\n",
    "    precision_scores.append(precision)\n",
    "    \n",
    "    recall = recall_score(y_test, pred_class)\n",
    "    recall_scores.append(recall)\n",
    "    \n",
    "    f1 = f1_score(y_test, pred_class)\n",
    "    f1_scores.append(f1)"
   ]
  },
  {
   "cell_type": "code",
   "execution_count": 42,
   "id": "70ac1917",
   "metadata": {},
   "outputs": [],
   "source": [
    "max_f1 = max(f1_scores)\n",
    "max_f1_idx = f1_scores.index(max_f1)"
   ]
  },
  {
   "cell_type": "code",
   "execution_count": 43,
   "id": "340c4b12",
   "metadata": {},
   "outputs": [
    {
     "data": {
      "image/png": "[encoded data removed]",
      "text/plain": [
       "<Figure size 1280x880 with 1 Axes>"
      ]
     },
     "metadata": {},
     "output_type": "display_data"
    }
   ],
   "source": [
    "plt.style.use('seaborn-poster')\n",
    "plt.plot(thresholds, precision_scores, label = \"Precision\", linestyle = \"--\")\n",
    "plt.plot(thresholds, recall_scores, label = \"Recall\", linestyle = \"--\")\n",
    "plt.plot(thresholds, f1_scores, label = \"f1\", linewidth = 5)\n",
    "plt.title(f\"Finding the Optimal Threshold for Classification Model \\n Max F1: {round(max_f1,2)}(Threshold = {round(thresholds[max_f1_idx],2)})\")\n",
    "plt.xlabel(\"Threshold\")\n",
    "plt.ylabel(\"Assessment Score\")\n",
    "plt.legend(loc = \"lower left\")\n",
    "plt.tight_layout()\n",
    "plt.show()"
   ]
  },
  {
   "cell_type": "code",
   "execution_count": 44,
   "id": "4817e16f",
   "metadata": {},
   "outputs": [
    {
     "data": {
      "text/plain": [
       "array([0, 0, 1, 0, 0, 1, 0, 0, 0, 0, 0, 0, 0, 0, 0, 0, 0, 0, 0, 0, 1, 1,\n",
       "       1, 1, 0, 0, 0, 0, 0, 0, 1, 1, 0, 0, 0, 0, 1, 0, 0, 1, 0, 0, 0, 0,\n",
       "       0, 0, 1, 0, 0, 0, 0, 0, 1, 0, 0, 0, 1, 1, 0, 0, 1, 1, 0, 0, 1, 0,\n",
       "       0, 0, 0, 0, 1, 0, 0, 0, 0, 1, 1, 1, 0, 0, 0, 0, 0, 1, 0, 0, 0, 1,\n",
       "       0, 0, 0, 0, 1, 0, 0, 0, 0, 0, 1, 1, 0, 0, 0, 1, 0, 1, 0, 1, 0, 0,\n",
       "       0, 0, 0, 1, 0, 0, 0, 0, 0, 0, 0, 0, 0, 0, 1, 0, 0, 0, 1, 0, 0, 1,\n",
       "       0, 0, 0, 0, 1, 0, 1, 1, 0, 1, 0, 1, 0, 0, 0, 0, 0, 0, 0, 1, 0, 0,\n",
       "       0, 1, 0])"
      ]
     },
     "execution_count": 44,
     "metadata": {},
     "output_type": "execute_result"
    }
   ],
   "source": [
    "optimal_threshold = 0.44\n",
    "y_pred_class_opt_thresh = (y_pred_prob >= optimal_threshold) * 1\n",
    "y_pred_class_opt_thresh"
   ]
  },
  {
   "cell_type": "code",
   "execution_count": null,
   "id": "8cf2871a",
   "metadata": {},
   "outputs": [],
   "source": []
  }
 ],
 "metadata": {
  "kernelspec": {
   "display_name": "Python 3 (ipykernel)",
   "language": "python",
   "name": "python3"
  },
  "language_info": {
   "codemirror_mode": {
    "name": "ipython",
    "version": 3
   },
   "file_extension": ".py",
   "mimetype": "text/x-python",
   "name": "python",
   "nbconvert_exporter": "python",
   "pygments_lexer": "ipython3",
   "version": "3.9.13"
  }
 },
 "nbformat": 4,
 "nbformat_minor": 5
}
