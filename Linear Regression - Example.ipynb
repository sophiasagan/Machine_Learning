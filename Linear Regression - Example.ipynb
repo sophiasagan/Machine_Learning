{
 "cells": [
  {
   "cell_type": "markdown",
   "id": "2728d358",
   "metadata": {},
   "source": [
    "# Linear Regression - Example"
   ]
  },
  {
   "cell_type": "code",
   "execution_count": 1,
   "id": "e4f9e9e7",
   "metadata": {},
   "outputs": [],
   "source": [
    "import pandas as pd\n",
    "import pickle\n",
    "import matplotlib.pyplot as plt\n",
    "\n",
    "from sklearn.linear_model import LinearRegression\n",
    "from sklearn.utils import shuffle\n",
    "from sklearn.model_selection import train_test_split, cross_val_score, KFold\n",
    "from sklearn.metrics import r2_score\n",
    "from sklearn.preprocessing import OneHotEncoder\n",
    "from sklearn.feature_selection import RFECV"
   ]
  },
  {
   "cell_type": "code",
   "execution_count": 4,
   "id": "4b0e47a8",
   "metadata": {},
   "outputs": [],
   "source": [
    "data_for_model = pickle.load(open(\"data/abc_abc_regression_modelling.p\", \"rb\"))"
   ]
  },
  {
   "cell_type": "code",
   "execution_count": 5,
   "id": "b7f66035",
   "metadata": {},
   "outputs": [],
   "source": [
    "data_for_model.drop(\"customer_id\", axis = 1, inplace = True)"
   ]
  },
  {
   "cell_type": "code",
   "execution_count": 6,
   "id": "a2f94082",
   "metadata": {},
   "outputs": [],
   "source": [
    "# shuffle data\n",
    "data_for_model = shuffle(data_for_model, random_state = 42)"
   ]
  },
  {
   "cell_type": "code",
   "execution_count": 7,
   "id": "376c8aa1",
   "metadata": {},
   "outputs": [
    {
     "data": {
      "text/plain": [
       "distance_from_store       2\n",
       "gender                    3\n",
       "credit_score              2\n",
       "customer_loyalty_score    0\n",
       "total_sales               0\n",
       "total_items               0\n",
       "transaction_count         0\n",
       "product_area_count        0\n",
       "average_basket_value      0\n",
       "dtype: int64"
      ]
     },
     "execution_count": 7,
     "metadata": {},
     "output_type": "execute_result"
    }
   ],
   "source": [
    "# deal with missing values\n",
    "data_for_model.isna().sum()"
   ]
  },
  {
   "cell_type": "code",
   "execution_count": 9,
   "id": "b47b3cb2",
   "metadata": {},
   "outputs": [],
   "source": [
    "data_for_model.dropna(how = \"any\", inplace = True)"
   ]
  },
  {
   "cell_type": "code",
   "execution_count": 11,
   "id": "8c5a4521",
   "metadata": {},
   "outputs": [
    {
     "data": {
      "text/html": [
       "<div>\n",
       "<style scoped>\n",
       "    .dataframe tbody tr th:only-of-type {\n",
       "        vertical-align: middle;\n",
       "    }\n",
       "\n",
       "    .dataframe tbody tr th {\n",
       "        vertical-align: top;\n",
       "    }\n",
       "\n",
       "    .dataframe thead th {\n",
       "        text-align: right;\n",
       "    }\n",
       "</style>\n",
       "<table border=\"1\" class=\"dataframe\">\n",
       "  <thead>\n",
       "    <tr style=\"text-align: right;\">\n",
       "      <th></th>\n",
       "      <th>distance_from_store</th>\n",
       "      <th>credit_score</th>\n",
       "      <th>customer_loyalty_score</th>\n",
       "      <th>total_sales</th>\n",
       "      <th>total_items</th>\n",
       "      <th>transaction_count</th>\n",
       "      <th>product_area_count</th>\n",
       "      <th>average_basket_value</th>\n",
       "    </tr>\n",
       "  </thead>\n",
       "  <tbody>\n",
       "    <tr>\n",
       "      <th>count</th>\n",
       "      <td>394.000000</td>\n",
       "      <td>394.000000</td>\n",
       "      <td>394.000000</td>\n",
       "      <td>394.000000</td>\n",
       "      <td>394.000000</td>\n",
       "      <td>394.000000</td>\n",
       "      <td>394.000000</td>\n",
       "      <td>394.000000</td>\n",
       "    </tr>\n",
       "    <tr>\n",
       "      <th>mean</th>\n",
       "      <td>2.021041</td>\n",
       "      <td>0.596117</td>\n",
       "      <td>0.509589</td>\n",
       "      <td>1846.502538</td>\n",
       "      <td>278.304569</td>\n",
       "      <td>44.926396</td>\n",
       "      <td>4.312183</td>\n",
       "      <td>36.781487</td>\n",
       "    </tr>\n",
       "    <tr>\n",
       "      <th>std</th>\n",
       "      <td>2.566045</td>\n",
       "      <td>0.101352</td>\n",
       "      <td>0.294504</td>\n",
       "      <td>1767.829482</td>\n",
       "      <td>214.236424</td>\n",
       "      <td>21.248012</td>\n",
       "      <td>0.725054</td>\n",
       "      <td>19.337336</td>\n",
       "    </tr>\n",
       "    <tr>\n",
       "      <th>min</th>\n",
       "      <td>0.000000</td>\n",
       "      <td>0.260000</td>\n",
       "      <td>0.002000</td>\n",
       "      <td>45.950000</td>\n",
       "      <td>10.000000</td>\n",
       "      <td>4.000000</td>\n",
       "      <td>2.000000</td>\n",
       "      <td>9.342000</td>\n",
       "    </tr>\n",
       "    <tr>\n",
       "      <th>25%</th>\n",
       "      <td>0.710000</td>\n",
       "      <td>0.530000</td>\n",
       "      <td>0.263000</td>\n",
       "      <td>942.067500</td>\n",
       "      <td>201.000000</td>\n",
       "      <td>41.000000</td>\n",
       "      <td>4.000000</td>\n",
       "      <td>22.406953</td>\n",
       "    </tr>\n",
       "    <tr>\n",
       "      <th>50%</th>\n",
       "      <td>1.645000</td>\n",
       "      <td>0.590000</td>\n",
       "      <td>0.510500</td>\n",
       "      <td>1471.490000</td>\n",
       "      <td>258.500000</td>\n",
       "      <td>50.000000</td>\n",
       "      <td>4.000000</td>\n",
       "      <td>30.365417</td>\n",
       "    </tr>\n",
       "    <tr>\n",
       "      <th>75%</th>\n",
       "      <td>2.910000</td>\n",
       "      <td>0.660000</td>\n",
       "      <td>0.771500</td>\n",
       "      <td>2104.727500</td>\n",
       "      <td>318.500000</td>\n",
       "      <td>53.000000</td>\n",
       "      <td>5.000000</td>\n",
       "      <td>47.208474</td>\n",
       "    </tr>\n",
       "    <tr>\n",
       "      <th>max</th>\n",
       "      <td>44.370000</td>\n",
       "      <td>0.880000</td>\n",
       "      <td>1.000000</td>\n",
       "      <td>9878.760000</td>\n",
       "      <td>1187.000000</td>\n",
       "      <td>109.000000</td>\n",
       "      <td>5.000000</td>\n",
       "      <td>102.335417</td>\n",
       "    </tr>\n",
       "  </tbody>\n",
       "</table>\n",
       "</div>"
      ],
      "text/plain": [
       "       distance_from_store  credit_score  customer_loyalty_score  total_sales  \\\n",
       "count           394.000000    394.000000              394.000000   394.000000   \n",
       "mean              2.021041      0.596117                0.509589  1846.502538   \n",
       "std               2.566045      0.101352                0.294504  1767.829482   \n",
       "min               0.000000      0.260000                0.002000    45.950000   \n",
       "25%               0.710000      0.530000                0.263000   942.067500   \n",
       "50%               1.645000      0.590000                0.510500  1471.490000   \n",
       "75%               2.910000      0.660000                0.771500  2104.727500   \n",
       "max              44.370000      0.880000                1.000000  9878.760000   \n",
       "\n",
       "       total_items  transaction_count  product_area_count  \\\n",
       "count   394.000000         394.000000          394.000000   \n",
       "mean    278.304569          44.926396            4.312183   \n",
       "std     214.236424          21.248012            0.725054   \n",
       "min      10.000000           4.000000            2.000000   \n",
       "25%     201.000000          41.000000            4.000000   \n",
       "50%     258.500000          50.000000            4.000000   \n",
       "75%     318.500000          53.000000            5.000000   \n",
       "max    1187.000000         109.000000            5.000000   \n",
       "\n",
       "       average_basket_value  \n",
       "count            394.000000  \n",
       "mean              36.781487  \n",
       "std               19.337336  \n",
       "min                9.342000  \n",
       "25%               22.406953  \n",
       "50%               30.365417  \n",
       "75%               47.208474  \n",
       "max              102.335417  "
      ]
     },
     "execution_count": 11,
     "metadata": {},
     "output_type": "execute_result"
    }
   ],
   "source": [
    "# deal with Outliers\n",
    "outlier_investigation = data_for_model.describe()\n",
    "outlier_investigation"
   ]
  },
  {
   "cell_type": "code",
   "execution_count": 14,
   "id": "cc19abe2",
   "metadata": {},
   "outputs": [
    {
     "name": "stdout",
     "output_type": "stream",
     "text": [
      "2 outliers detected in column distance_from_store\n",
      "23 outliers detected in column total_sales\n",
      "0 outliers detected in column total_items\n"
     ]
    }
   ],
   "source": [
    "outlier_columns = [\"distance_from_store\", \"total_sales\", \"total_items\"]\n",
    "\n",
    "for column in outlier_columns:\n",
    "    lower_quartile = data_for_model[column].quantile(0.25)\n",
    "    upper_quartile = data_for_model[column].quantile(0.75)\n",
    "    iqr = upper_quartile - lower_quartile\n",
    "    iqr_extended = iqr * 2\n",
    "    min_border = lower_quartile - iqr_extended\n",
    "    max_border = upper_quartile + iqr_extended\n",
    "    \n",
    "    outliers = data_for_model[(data_for_model[column] < min_border) | (data_for_model[column] > max_border)].index\n",
    "    print(f\"{len(outliers)} outliers detected in column {column}\")\n",
    "    \n",
    "    data_for_model.drop(outliers, inplace = True)"
   ]
  },
  {
   "cell_type": "code",
   "execution_count": 16,
   "id": "1eba4d2e",
   "metadata": {},
   "outputs": [],
   "source": [
    "# split input variables & output variable\n",
    "X = data_for_model.drop([\"customer_loyalty_score\"], axis = 1)\n",
    "y = data_for_model[\"customer_loyalty_score\"]"
   ]
  },
  {
   "cell_type": "code",
   "execution_count": 17,
   "id": "35adfaf0",
   "metadata": {},
   "outputs": [],
   "source": [
    "# split out training and test sets\n",
    "X_train, X_test, y_train, y_test = train_test_split(X, y, test_size = 0.2, random_state = 42)"
   ]
  },
  {
   "cell_type": "code",
   "execution_count": 18,
   "id": "d423b864",
   "metadata": {},
   "outputs": [
    {
     "name": "stderr",
     "output_type": "stream",
     "text": [
      "C:\\Users\\sophi\\anaconda3\\lib\\site-packages\\sklearn\\utils\\deprecation.py:87: FutureWarning: Function get_feature_names is deprecated; get_feature_names is deprecated in 1.0 and will be removed in 1.2. Please use get_feature_names_out instead.\n",
      "  warnings.warn(msg, category=FutureWarning)\n"
     ]
    }
   ],
   "source": [
    "# deal with categorical variables\n",
    "categorical_vars = [\"gender\"]\n",
    "one_hot_encoder = OneHotEncoder(sparse=False, drop = 'first')\n",
    "\n",
    "X_train_encoded = one_hot_encoder.fit_transform(X_train[categorical_vars])\n",
    "X_test_encoded = one_hot_encoder.transform(X_test[categorical_vars])\n",
    "\n",
    "encoder_feature_names = one_hot_encoder.get_feature_names(categorical_vars)\n",
    "\n",
    "X_train_encoded = pd.DataFrame(X_train_encoded, columns = encoder_feature_names)\n",
    "X_train = pd.concat([X_train.reset_index(drop = True), X_train_encoded.reset_index(drop = True)], axis = 1)\n",
    "X_train.drop(categorical_vars, axis = 1, inplace = True)\n",
    "\n",
    "X_test_encoded = pd.DataFrame(X_test_encoded, columns = encoder_feature_names)\n",
    "X_test = pd.concat([X_test.reset_index(drop = True), X_test_encoded.reset_index(drop = True)], axis = 1)\n",
    "X_test.drop(categorical_vars, axis = 1, inplace = True)\n"
   ]
  },
  {
   "cell_type": "code",
   "execution_count": 19,
   "id": "d6ccd565",
   "metadata": {},
   "outputs": [
    {
     "data": {
      "text/html": [
       "<div>\n",
       "<style scoped>\n",
       "    .dataframe tbody tr th:only-of-type {\n",
       "        vertical-align: middle;\n",
       "    }\n",
       "\n",
       "    .dataframe tbody tr th {\n",
       "        vertical-align: top;\n",
       "    }\n",
       "\n",
       "    .dataframe thead th {\n",
       "        text-align: right;\n",
       "    }\n",
       "</style>\n",
       "<table border=\"1\" class=\"dataframe\">\n",
       "  <thead>\n",
       "    <tr style=\"text-align: right;\">\n",
       "      <th></th>\n",
       "      <th>distance_from_store</th>\n",
       "      <th>credit_score</th>\n",
       "      <th>total_sales</th>\n",
       "      <th>total_items</th>\n",
       "      <th>transaction_count</th>\n",
       "      <th>product_area_count</th>\n",
       "      <th>average_basket_value</th>\n",
       "      <th>gender_M</th>\n",
       "    </tr>\n",
       "  </thead>\n",
       "  <tbody>\n",
       "    <tr>\n",
       "      <th>0</th>\n",
       "      <td>0.19</td>\n",
       "      <td>0.57</td>\n",
       "      <td>1096.96</td>\n",
       "      <td>202</td>\n",
       "      <td>53</td>\n",
       "      <td>5</td>\n",
       "      <td>20.697358</td>\n",
       "      <td>1.0</td>\n",
       "    </tr>\n",
       "    <tr>\n",
       "      <th>1</th>\n",
       "      <td>0.39</td>\n",
       "      <td>0.43</td>\n",
       "      <td>933.39</td>\n",
       "      <td>220</td>\n",
       "      <td>51</td>\n",
       "      <td>4</td>\n",
       "      <td>18.301765</td>\n",
       "      <td>1.0</td>\n",
       "    </tr>\n",
       "    <tr>\n",
       "      <th>2</th>\n",
       "      <td>2.27</td>\n",
       "      <td>0.49</td>\n",
       "      <td>1506.49</td>\n",
       "      <td>281</td>\n",
       "      <td>47</td>\n",
       "      <td>3</td>\n",
       "      <td>32.052979</td>\n",
       "      <td>0.0</td>\n",
       "    </tr>\n",
       "    <tr>\n",
       "      <th>3</th>\n",
       "      <td>3.10</td>\n",
       "      <td>0.59</td>\n",
       "      <td>330.79</td>\n",
       "      <td>81</td>\n",
       "      <td>13</td>\n",
       "      <td>4</td>\n",
       "      <td>25.445385</td>\n",
       "      <td>0.0</td>\n",
       "    </tr>\n",
       "    <tr>\n",
       "      <th>4</th>\n",
       "      <td>0.07</td>\n",
       "      <td>0.53</td>\n",
       "      <td>2053.04</td>\n",
       "      <td>210</td>\n",
       "      <td>54</td>\n",
       "      <td>5</td>\n",
       "      <td>38.019259</td>\n",
       "      <td>1.0</td>\n",
       "    </tr>\n",
       "    <tr>\n",
       "      <th>...</th>\n",
       "      <td>...</td>\n",
       "      <td>...</td>\n",
       "      <td>...</td>\n",
       "      <td>...</td>\n",
       "      <td>...</td>\n",
       "      <td>...</td>\n",
       "      <td>...</td>\n",
       "      <td>...</td>\n",
       "    </tr>\n",
       "    <tr>\n",
       "      <th>290</th>\n",
       "      <td>1.02</td>\n",
       "      <td>0.64</td>\n",
       "      <td>2490.66</td>\n",
       "      <td>263</td>\n",
       "      <td>51</td>\n",
       "      <td>5</td>\n",
       "      <td>48.836471</td>\n",
       "      <td>1.0</td>\n",
       "    </tr>\n",
       "    <tr>\n",
       "      <th>291</th>\n",
       "      <td>0.66</td>\n",
       "      <td>0.45</td>\n",
       "      <td>3183.80</td>\n",
       "      <td>285</td>\n",
       "      <td>52</td>\n",
       "      <td>5</td>\n",
       "      <td>61.226923</td>\n",
       "      <td>1.0</td>\n",
       "    </tr>\n",
       "    <tr>\n",
       "      <th>292</th>\n",
       "      <td>2.60</td>\n",
       "      <td>0.48</td>\n",
       "      <td>1815.22</td>\n",
       "      <td>306</td>\n",
       "      <td>43</td>\n",
       "      <td>4</td>\n",
       "      <td>42.214419</td>\n",
       "      <td>0.0</td>\n",
       "    </tr>\n",
       "    <tr>\n",
       "      <th>293</th>\n",
       "      <td>1.81</td>\n",
       "      <td>0.54</td>\n",
       "      <td>1208.05</td>\n",
       "      <td>272</td>\n",
       "      <td>46</td>\n",
       "      <td>4</td>\n",
       "      <td>26.261957</td>\n",
       "      <td>0.0</td>\n",
       "    </tr>\n",
       "    <tr>\n",
       "      <th>294</th>\n",
       "      <td>2.94</td>\n",
       "      <td>0.62</td>\n",
       "      <td>2397.63</td>\n",
       "      <td>282</td>\n",
       "      <td>52</td>\n",
       "      <td>5</td>\n",
       "      <td>46.108269</td>\n",
       "      <td>0.0</td>\n",
       "    </tr>\n",
       "  </tbody>\n",
       "</table>\n",
       "<p>295 rows × 8 columns</p>\n",
       "</div>"
      ],
      "text/plain": [
       "     distance_from_store  credit_score  total_sales  total_items  \\\n",
       "0                   0.19          0.57      1096.96          202   \n",
       "1                   0.39          0.43       933.39          220   \n",
       "2                   2.27          0.49      1506.49          281   \n",
       "3                   3.10          0.59       330.79           81   \n",
       "4                   0.07          0.53      2053.04          210   \n",
       "..                   ...           ...          ...          ...   \n",
       "290                 1.02          0.64      2490.66          263   \n",
       "291                 0.66          0.45      3183.80          285   \n",
       "292                 2.60          0.48      1815.22          306   \n",
       "293                 1.81          0.54      1208.05          272   \n",
       "294                 2.94          0.62      2397.63          282   \n",
       "\n",
       "     transaction_count  product_area_count  average_basket_value  gender_M  \n",
       "0                   53                   5             20.697358       1.0  \n",
       "1                   51                   4             18.301765       1.0  \n",
       "2                   47                   3             32.052979       0.0  \n",
       "3                   13                   4             25.445385       0.0  \n",
       "4                   54                   5             38.019259       1.0  \n",
       "..                 ...                 ...                   ...       ...  \n",
       "290                 51                   5             48.836471       1.0  \n",
       "291                 52                   5             61.226923       1.0  \n",
       "292                 43                   4             42.214419       0.0  \n",
       "293                 46                   4             26.261957       0.0  \n",
       "294                 52                   5             46.108269       0.0  \n",
       "\n",
       "[295 rows x 8 columns]"
      ]
     },
     "execution_count": 19,
     "metadata": {},
     "output_type": "execute_result"
    }
   ],
   "source": [
    "X_train"
   ]
  },
  {
   "cell_type": "code",
   "execution_count": 20,
   "id": "ccfc95c1",
   "metadata": {},
   "outputs": [
    {
     "data": {
      "text/html": [
       "<div>\n",
       "<style scoped>\n",
       "    .dataframe tbody tr th:only-of-type {\n",
       "        vertical-align: middle;\n",
       "    }\n",
       "\n",
       "    .dataframe tbody tr th {\n",
       "        vertical-align: top;\n",
       "    }\n",
       "\n",
       "    .dataframe thead th {\n",
       "        text-align: right;\n",
       "    }\n",
       "</style>\n",
       "<table border=\"1\" class=\"dataframe\">\n",
       "  <thead>\n",
       "    <tr style=\"text-align: right;\">\n",
       "      <th></th>\n",
       "      <th>distance_from_store</th>\n",
       "      <th>credit_score</th>\n",
       "      <th>total_sales</th>\n",
       "      <th>total_items</th>\n",
       "      <th>transaction_count</th>\n",
       "      <th>product_area_count</th>\n",
       "      <th>average_basket_value</th>\n",
       "      <th>gender_M</th>\n",
       "    </tr>\n",
       "  </thead>\n",
       "  <tbody>\n",
       "    <tr>\n",
       "      <th>0</th>\n",
       "      <td>2.80</td>\n",
       "      <td>0.41</td>\n",
       "      <td>1524.01</td>\n",
       "      <td>278</td>\n",
       "      <td>45</td>\n",
       "      <td>3</td>\n",
       "      <td>33.866889</td>\n",
       "      <td>0.0</td>\n",
       "    </tr>\n",
       "    <tr>\n",
       "      <th>1</th>\n",
       "      <td>1.92</td>\n",
       "      <td>0.64</td>\n",
       "      <td>1992.51</td>\n",
       "      <td>305</td>\n",
       "      <td>53</td>\n",
       "      <td>5</td>\n",
       "      <td>37.594528</td>\n",
       "      <td>0.0</td>\n",
       "    </tr>\n",
       "    <tr>\n",
       "      <th>2</th>\n",
       "      <td>4.38</td>\n",
       "      <td>0.47</td>\n",
       "      <td>343.41</td>\n",
       "      <td>70</td>\n",
       "      <td>12</td>\n",
       "      <td>4</td>\n",
       "      <td>28.617500</td>\n",
       "      <td>0.0</td>\n",
       "    </tr>\n",
       "    <tr>\n",
       "      <th>3</th>\n",
       "      <td>1.51</td>\n",
       "      <td>0.59</td>\n",
       "      <td>1208.91</td>\n",
       "      <td>198</td>\n",
       "      <td>55</td>\n",
       "      <td>5</td>\n",
       "      <td>21.980182</td>\n",
       "      <td>0.0</td>\n",
       "    </tr>\n",
       "    <tr>\n",
       "      <th>4</th>\n",
       "      <td>2.52</td>\n",
       "      <td>0.50</td>\n",
       "      <td>1967.39</td>\n",
       "      <td>316</td>\n",
       "      <td>55</td>\n",
       "      <td>5</td>\n",
       "      <td>35.770727</td>\n",
       "      <td>0.0</td>\n",
       "    </tr>\n",
       "    <tr>\n",
       "      <th>...</th>\n",
       "      <td>...</td>\n",
       "      <td>...</td>\n",
       "      <td>...</td>\n",
       "      <td>...</td>\n",
       "      <td>...</td>\n",
       "      <td>...</td>\n",
       "      <td>...</td>\n",
       "      <td>...</td>\n",
       "    </tr>\n",
       "    <tr>\n",
       "      <th>69</th>\n",
       "      <td>1.31</td>\n",
       "      <td>0.75</td>\n",
       "      <td>1773.33</td>\n",
       "      <td>325</td>\n",
       "      <td>45</td>\n",
       "      <td>4</td>\n",
       "      <td>39.407333</td>\n",
       "      <td>1.0</td>\n",
       "    </tr>\n",
       "    <tr>\n",
       "      <th>70</th>\n",
       "      <td>0.45</td>\n",
       "      <td>0.56</td>\n",
       "      <td>1342.64</td>\n",
       "      <td>221</td>\n",
       "      <td>55</td>\n",
       "      <td>5</td>\n",
       "      <td>24.411636</td>\n",
       "      <td>1.0</td>\n",
       "    </tr>\n",
       "    <tr>\n",
       "      <th>71</th>\n",
       "      <td>1.59</td>\n",
       "      <td>0.50</td>\n",
       "      <td>1740.37</td>\n",
       "      <td>303</td>\n",
       "      <td>52</td>\n",
       "      <td>5</td>\n",
       "      <td>33.468654</td>\n",
       "      <td>1.0</td>\n",
       "    </tr>\n",
       "    <tr>\n",
       "      <th>72</th>\n",
       "      <td>4.76</td>\n",
       "      <td>0.52</td>\n",
       "      <td>2996.02</td>\n",
       "      <td>357</td>\n",
       "      <td>49</td>\n",
       "      <td>5</td>\n",
       "      <td>61.143265</td>\n",
       "      <td>0.0</td>\n",
       "    </tr>\n",
       "    <tr>\n",
       "      <th>73</th>\n",
       "      <td>2.68</td>\n",
       "      <td>0.52</td>\n",
       "      <td>324.22</td>\n",
       "      <td>65</td>\n",
       "      <td>12</td>\n",
       "      <td>4</td>\n",
       "      <td>27.018333</td>\n",
       "      <td>0.0</td>\n",
       "    </tr>\n",
       "  </tbody>\n",
       "</table>\n",
       "<p>74 rows × 8 columns</p>\n",
       "</div>"
      ],
      "text/plain": [
       "    distance_from_store  credit_score  total_sales  total_items  \\\n",
       "0                  2.80          0.41      1524.01          278   \n",
       "1                  1.92          0.64      1992.51          305   \n",
       "2                  4.38          0.47       343.41           70   \n",
       "3                  1.51          0.59      1208.91          198   \n",
       "4                  2.52          0.50      1967.39          316   \n",
       "..                  ...           ...          ...          ...   \n",
       "69                 1.31          0.75      1773.33          325   \n",
       "70                 0.45          0.56      1342.64          221   \n",
       "71                 1.59          0.50      1740.37          303   \n",
       "72                 4.76          0.52      2996.02          357   \n",
       "73                 2.68          0.52       324.22           65   \n",
       "\n",
       "    transaction_count  product_area_count  average_basket_value  gender_M  \n",
       "0                  45                   3             33.866889       0.0  \n",
       "1                  53                   5             37.594528       0.0  \n",
       "2                  12                   4             28.617500       0.0  \n",
       "3                  55                   5             21.980182       0.0  \n",
       "4                  55                   5             35.770727       0.0  \n",
       "..                ...                 ...                   ...       ...  \n",
       "69                 45                   4             39.407333       1.0  \n",
       "70                 55                   5             24.411636       1.0  \n",
       "71                 52                   5             33.468654       1.0  \n",
       "72                 49                   5             61.143265       0.0  \n",
       "73                 12                   4             27.018333       0.0  \n",
       "\n",
       "[74 rows x 8 columns]"
      ]
     },
     "execution_count": 20,
     "metadata": {},
     "output_type": "execute_result"
    }
   ],
   "source": [
    "X_test"
   ]
  },
  {
   "cell_type": "code",
   "execution_count": 21,
   "id": "bcbc0f58",
   "metadata": {},
   "outputs": [],
   "source": [
    "# feature selection\n",
    "regressor = LinearRegression()\n",
    "feature_selector = RFECV(regressor)\n",
    "fit = feature_selector.fit(X_train,y_train)"
   ]
  },
  {
   "cell_type": "code",
   "execution_count": 22,
   "id": "91c6bd88",
   "metadata": {},
   "outputs": [
    {
     "name": "stdout",
     "output_type": "stream",
     "text": [
      "Optimal number of features: 8\n"
     ]
    }
   ],
   "source": [
    "optimal_feature_count = feature_selector.n_features_\n",
    "print(f\"Optimal number of features: {optimal_feature_count}\")"
   ]
  },
  {
   "cell_type": "code",
   "execution_count": 23,
   "id": "21121816",
   "metadata": {},
   "outputs": [],
   "source": [
    "X_train = X_train.loc[:, feature_selector.get_support()]\n",
    "X_test = X_test.loc[:, feature_selector.get_support()]"
   ]
  },
  {
   "cell_type": "code",
   "execution_count": 24,
   "id": "65d590bb",
   "metadata": {},
   "outputs": [
    {
     "name": "stderr",
     "output_type": "stream",
     "text": [
      "C:\\Users\\sophi\\anaconda3\\lib\\site-packages\\sklearn\\utils\\deprecation.py:103: FutureWarning: The `grid_scores_` attribute is deprecated in version 1.0 in favor of `cv_results_` and will be removed in version 1.2.\n",
      "  warnings.warn(msg, category=FutureWarning)\n"
     ]
    },
    {
     "data": {
      "text/plain": [
       "Text(0.5, 1.0, 'Feature Selection using RFE \\n Optimal number of features is 8')"
      ]
     },
     "execution_count": 24,
     "metadata": {},
     "output_type": "execute_result"
    },
    {
     "data": {
      "image/png": "[encoded data removed]",
      "text/plain": [
       "<Figure size 640x480 with 1 Axes>"
      ]
     },
     "metadata": {},
     "output_type": "display_data"
    }
   ],
   "source": [
    "plt.plot(range(1, len(fit.grid_scores_) + 1), fit.grid_scores_, marker = \"o\")\n",
    "plt.ylabel(\"Model Score\")\n",
    "plt.xlabel(\"number of Features\")\n",
    "plt.title(f\"Feature Selection using RFE \\n Optimal number of features is {optimal_feature_count}\")"
   ]
  },
  {
   "cell_type": "code",
   "execution_count": 26,
   "id": "ad74e1c8",
   "metadata": {},
   "outputs": [
    {
     "data": {
      "text/plain": [
       "LinearRegression()"
      ]
     },
     "execution_count": 26,
     "metadata": {},
     "output_type": "execute_result"
    }
   ],
   "source": [
    "# model training\n",
    "regressor = LinearRegression()\n",
    "regressor.fit(X_train, y_train)"
   ]
  },
  {
   "cell_type": "code",
   "execution_count": 27,
   "id": "89542f6d",
   "metadata": {},
   "outputs": [],
   "source": [
    "# predict on the test set\n",
    "y_pred = regressor.predict(X_test)"
   ]
  },
  {
   "cell_type": "code",
   "execution_count": 28,
   "id": "c04c58c7",
   "metadata": {},
   "outputs": [
    {
     "data": {
      "text/plain": [
       "0.7805702910327408"
      ]
     },
     "execution_count": 28,
     "metadata": {},
     "output_type": "execute_result"
    }
   ],
   "source": [
    "# calculate r-squared\n",
    "r_squared = r2_score(y_test, y_pred)\n",
    "r_squared"
   ]
  },
  {
   "cell_type": "code",
   "execution_count": 29,
   "id": "b93098ba",
   "metadata": {},
   "outputs": [
    {
     "data": {
      "text/plain": [
       "0.8532327536589764"
      ]
     },
     "execution_count": 29,
     "metadata": {},
     "output_type": "execute_result"
    }
   ],
   "source": [
    "# cross validation\n",
    "cv = KFold(n_splits = 4, shuffle = True, random_state = 42)\n",
    "cv_scores = cross_val_score(regressor, X_train, y_train, cv = cv, scoring = \"r2\")\n",
    "cv_scores.mean()"
   ]
  },
  {
   "cell_type": "code",
   "execution_count": 33,
   "id": "1d746390",
   "metadata": {},
   "outputs": [
    {
     "name": "stdout",
     "output_type": "stream",
     "text": [
      "74 8\n",
      "0.7535635576213858\n"
     ]
    }
   ],
   "source": [
    "# calculate adjusted r-squared\n",
    "num_data_point, num_input_vars = X_test.shape\n",
    "print(num_data_point, num_input_vars)\n",
    "adjusted_r_squared = 1 -(1-r_squared)*(num_data_point-1)/(num_data_point - num_input_vars -1)\n",
    "print(adjusted_r_squared)"
   ]
  },
  {
   "cell_type": "code",
   "execution_count": 34,
   "id": "cde03a83",
   "metadata": {},
   "outputs": [
    {
     "data": {
      "text/html": [
       "<div>\n",
       "<style scoped>\n",
       "    .dataframe tbody tr th:only-of-type {\n",
       "        vertical-align: middle;\n",
       "    }\n",
       "\n",
       "    .dataframe tbody tr th {\n",
       "        vertical-align: top;\n",
       "    }\n",
       "\n",
       "    .dataframe thead th {\n",
       "        text-align: right;\n",
       "    }\n",
       "</style>\n",
       "<table border=\"1\" class=\"dataframe\">\n",
       "  <thead>\n",
       "    <tr style=\"text-align: right;\">\n",
       "      <th></th>\n",
       "      <th>0</th>\n",
       "    </tr>\n",
       "  </thead>\n",
       "  <tbody>\n",
       "    <tr>\n",
       "      <th>0</th>\n",
       "      <td>-0.201232</td>\n",
       "    </tr>\n",
       "    <tr>\n",
       "      <th>1</th>\n",
       "      <td>-0.027697</td>\n",
       "    </tr>\n",
       "    <tr>\n",
       "      <th>2</th>\n",
       "      <td>0.000142</td>\n",
       "    </tr>\n",
       "    <tr>\n",
       "      <th>3</th>\n",
       "      <td>0.001002</td>\n",
       "    </tr>\n",
       "    <tr>\n",
       "      <th>4</th>\n",
       "      <td>-0.004842</td>\n",
       "    </tr>\n",
       "    <tr>\n",
       "      <th>5</th>\n",
       "      <td>0.061659</td>\n",
       "    </tr>\n",
       "    <tr>\n",
       "      <th>6</th>\n",
       "      <td>-0.003971</td>\n",
       "    </tr>\n",
       "    <tr>\n",
       "      <th>7</th>\n",
       "      <td>-0.013393</td>\n",
       "    </tr>\n",
       "  </tbody>\n",
       "</table>\n",
       "</div>"
      ],
      "text/plain": [
       "          0\n",
       "0 -0.201232\n",
       "1 -0.027697\n",
       "2  0.000142\n",
       "3  0.001002\n",
       "4 -0.004842\n",
       "5  0.061659\n",
       "6 -0.003971\n",
       "7 -0.013393"
      ]
     },
     "execution_count": 34,
     "metadata": {},
     "output_type": "execute_result"
    }
   ],
   "source": [
    "# extract model coefficients\n",
    "coefficients = pd.DataFrame(regressor.coef_)\n",
    "coefficients"
   ]
  },
  {
   "cell_type": "code",
   "execution_count": 35,
   "id": "8b234644",
   "metadata": {},
   "outputs": [
    {
     "name": "stderr",
     "output_type": "stream",
     "text": [
      "C:\\Users\\sophi\\AppData\\Local\\Temp\\ipykernel_174948\\4107146612.py:3: UserWarning: Pandas doesn't allow columns to be created via a new attribute name - see https://pandas.pydata.org/pandas-docs/stable/indexing.html#attribute-access\n",
      "  summary_stats.colums = [\"input_variable\", \"coefficient\"]\n"
     ]
    },
    {
     "data": {
      "text/html": [
       "<div>\n",
       "<style scoped>\n",
       "    .dataframe tbody tr th:only-of-type {\n",
       "        vertical-align: middle;\n",
       "    }\n",
       "\n",
       "    .dataframe tbody tr th {\n",
       "        vertical-align: top;\n",
       "    }\n",
       "\n",
       "    .dataframe thead th {\n",
       "        text-align: right;\n",
       "    }\n",
       "</style>\n",
       "<table border=\"1\" class=\"dataframe\">\n",
       "  <thead>\n",
       "    <tr style=\"text-align: right;\">\n",
       "      <th></th>\n",
       "      <th>0</th>\n",
       "      <th>0</th>\n",
       "    </tr>\n",
       "  </thead>\n",
       "  <tbody>\n",
       "    <tr>\n",
       "      <th>0</th>\n",
       "      <td>distance_from_store</td>\n",
       "      <td>-0.201232</td>\n",
       "    </tr>\n",
       "    <tr>\n",
       "      <th>1</th>\n",
       "      <td>credit_score</td>\n",
       "      <td>-0.027697</td>\n",
       "    </tr>\n",
       "    <tr>\n",
       "      <th>2</th>\n",
       "      <td>total_sales</td>\n",
       "      <td>0.000142</td>\n",
       "    </tr>\n",
       "    <tr>\n",
       "      <th>3</th>\n",
       "      <td>total_items</td>\n",
       "      <td>0.001002</td>\n",
       "    </tr>\n",
       "    <tr>\n",
       "      <th>4</th>\n",
       "      <td>transaction_count</td>\n",
       "      <td>-0.004842</td>\n",
       "    </tr>\n",
       "    <tr>\n",
       "      <th>5</th>\n",
       "      <td>product_area_count</td>\n",
       "      <td>0.061659</td>\n",
       "    </tr>\n",
       "    <tr>\n",
       "      <th>6</th>\n",
       "      <td>average_basket_value</td>\n",
       "      <td>-0.003971</td>\n",
       "    </tr>\n",
       "    <tr>\n",
       "      <th>7</th>\n",
       "      <td>gender_M</td>\n",
       "      <td>-0.013393</td>\n",
       "    </tr>\n",
       "  </tbody>\n",
       "</table>\n",
       "</div>"
      ],
      "text/plain": [
       "                      0         0\n",
       "0   distance_from_store -0.201232\n",
       "1          credit_score -0.027697\n",
       "2           total_sales  0.000142\n",
       "3           total_items  0.001002\n",
       "4     transaction_count -0.004842\n",
       "5    product_area_count  0.061659\n",
       "6  average_basket_value -0.003971\n",
       "7              gender_M -0.013393"
      ]
     },
     "execution_count": 35,
     "metadata": {},
     "output_type": "execute_result"
    }
   ],
   "source": [
    "input_variable_names = pd.DataFrame(X_train.columns)\n",
    "summary_stats = pd.concat([input_variable_names,coefficients], axis = 1)\n",
    "summary_stats.colums = [\"input_variable\", \"coefficient\"]\n",
    "summary_stats"
   ]
  },
  {
   "cell_type": "code",
   "execution_count": 36,
   "id": "3ae2bccf",
   "metadata": {},
   "outputs": [
    {
     "data": {
      "text/plain": [
       "0.5160974174646067"
      ]
     },
     "execution_count": 36,
     "metadata": {},
     "output_type": "execute_result"
    }
   ],
   "source": [
    "# extract model intercept\n",
    "regressor.intercept_"
   ]
  },
  {
   "cell_type": "code",
   "execution_count": null,
   "id": "dab61cd3",
   "metadata": {},
   "outputs": [],
   "source": []
  }
 ],
 "metadata": {
  "kernelspec": {
   "display_name": "Python 3 (ipykernel)",
   "language": "python",
   "name": "python3"
  },
  "language_info": {
   "codemirror_mode": {
    "name": "ipython",
    "version": 3
   },
   "file_extension": ".py",
   "mimetype": "text/x-python",
   "name": "python",
   "nbconvert_exporter": "python",
   "pygments_lexer": "ipython3",
   "version": "3.9.13"
  }
 },
 "nbformat": 4,
 "nbformat_minor": 5
}
